{
 "cells": [
  {
   "cell_type": "markdown",
   "metadata": {},
   "source": [
    "Source of Data：http://archive.ics.uci.edu/ml/datasets/Bank+Marketing\n",
    "The data is related with direct marketing campaigns of a Portuguese banking institution. The marketing campaigns were based on phone calls. Often, more than one contact to the same client was required, in order to access if the product (bank term deposit) would be ('yes') or not ('no') subscribed.\n",
    "Specific Dataset(s)：\n",
    "#### numeric variables: 10\n",
    "#categorical variables：10\n",
    "#samples: 45211 \n",
    "multiple related table:  3\n",
    "Independent Variables:\n",
    "#### bank client data:\n",
    "1 - age (numeric)\n",
    "2 - job : type of job (categorical: 'admin.','blue-collar','entrepreneur','housemaid','management','retired','self-employed','services','student','technician','unemployed','unknown')\n",
    "3 - marital : marital status (categorical: 'divorced','married','single','unknown'; note: 'divorced' means divorced or widowed)\n",
    "4 - education (categorical: 'basic.4y','basic.6y','basic.9y','high.school','illiterate','professional.course','university.degree','unknown')\n",
    "5 - default: has credit in default? (categorical: 'no','yes','unknown')\n",
    "6 - housing: has housing loan? (categorical: 'no','yes','unknown')\n",
    "7 - loan: has personal loan? (categorical: 'no','yes','unknown')\n",
    "#### related with the last contact of the current campaign:\n",
    "8 - contact: contact communication type (categorical: 'cellular','telephone')\n",
    "9 - month: last contact month of year (categorical: 'jan', 'feb', 'mar', ..., 'nov', 'dec')\n",
    "10 - day_of_week: last contact day of the week (categorical: 'mon','tue','wed','thu','fri')\n",
    "11 - duration: last contact duration, in seconds (numeric). Important note: this attribute highly affects the output target (e.g., if duration=0 then y='no'). Yet, the duration is not known before a call is performed. Also, after the end of the call y is obviously known. Thus, this input should only be included for benchmark purposes and should be discarded if the intention is to have a realistic predictive model.\n",
    "#### other attributes:\n",
    "12 - campaign: number of contacts performed during this campaign and for this client (numeric, includes last contact)\n",
    "13 - pdays: number of days that passed by after the client was last contacted from a previous campaign (numeric; 999 means client was not previously contacted)\n",
    "14 - previous: number of contacts performed before this campaign and for this client (numeric)\n",
    "15 - poutcome: outcome of the previous marketing campaign (categorical: 'failure','nonexistent','success')\n",
    "#### social and economic context attributes\n",
    "16 - emp.var.rate: employment variation rate - quarterly indicator (numeric)\n",
    "17 - cons.price.idx: consumer price index - monthly indicator (numeric)\n",
    "18 - cons.conf.idx: consumer confidence index - monthly indicator (numeric)\n",
    "19 - euribor3m: euribor 3 month rate - daily indicator (numeric)\n",
    "20 - nr.employed: number of employees - quarterly indicator (numeric)\n",
    "Dependent variable (desired target):\n",
    "21 -y - has the client subscribed a term deposit? (binary: 'yes','no')\n"
   ]
  },
  {
   "cell_type": "code",
   "execution_count": 1,
   "metadata": {},
   "outputs": [],
   "source": [
    "import numpy as np\n",
    "import pandas as pd"
   ]
  },
  {
   "cell_type": "code",
   "execution_count": 2,
   "metadata": {},
   "outputs": [
    {
     "data": {
      "text/html": [
       "<div>\n",
       "<style scoped>\n",
       "    .dataframe tbody tr th:only-of-type {\n",
       "        vertical-align: middle;\n",
       "    }\n",
       "\n",
       "    .dataframe tbody tr th {\n",
       "        vertical-align: top;\n",
       "    }\n",
       "\n",
       "    .dataframe thead th {\n",
       "        text-align: right;\n",
       "    }\n",
       "</style>\n",
       "<table border=\"1\" class=\"dataframe\">\n",
       "  <thead>\n",
       "    <tr style=\"text-align: right;\">\n",
       "      <th></th>\n",
       "      <th>age</th>\n",
       "      <th>job</th>\n",
       "      <th>marital</th>\n",
       "      <th>education</th>\n",
       "      <th>default</th>\n",
       "      <th>housing</th>\n",
       "      <th>loan</th>\n",
       "      <th>contact</th>\n",
       "      <th>month</th>\n",
       "      <th>day_of_week</th>\n",
       "      <th>...</th>\n",
       "      <th>campaign</th>\n",
       "      <th>pdays</th>\n",
       "      <th>previous</th>\n",
       "      <th>poutcome</th>\n",
       "      <th>emp.var.rate</th>\n",
       "      <th>cons.price.idx</th>\n",
       "      <th>cons.conf.idx</th>\n",
       "      <th>euribor3m</th>\n",
       "      <th>nr.employed</th>\n",
       "      <th>y</th>\n",
       "    </tr>\n",
       "  </thead>\n",
       "  <tbody>\n",
       "    <tr>\n",
       "      <th>0</th>\n",
       "      <td>56</td>\n",
       "      <td>housemaid</td>\n",
       "      <td>married</td>\n",
       "      <td>basic.4y</td>\n",
       "      <td>no</td>\n",
       "      <td>no</td>\n",
       "      <td>no</td>\n",
       "      <td>telephone</td>\n",
       "      <td>may</td>\n",
       "      <td>mon</td>\n",
       "      <td>...</td>\n",
       "      <td>1</td>\n",
       "      <td>999</td>\n",
       "      <td>0</td>\n",
       "      <td>nonexistent</td>\n",
       "      <td>1.1</td>\n",
       "      <td>93.994</td>\n",
       "      <td>-36.4</td>\n",
       "      <td>4.857</td>\n",
       "      <td>5191.0</td>\n",
       "      <td>no</td>\n",
       "    </tr>\n",
       "    <tr>\n",
       "      <th>1</th>\n",
       "      <td>57</td>\n",
       "      <td>services</td>\n",
       "      <td>married</td>\n",
       "      <td>high.school</td>\n",
       "      <td>unknown</td>\n",
       "      <td>no</td>\n",
       "      <td>no</td>\n",
       "      <td>telephone</td>\n",
       "      <td>may</td>\n",
       "      <td>mon</td>\n",
       "      <td>...</td>\n",
       "      <td>1</td>\n",
       "      <td>999</td>\n",
       "      <td>0</td>\n",
       "      <td>nonexistent</td>\n",
       "      <td>1.1</td>\n",
       "      <td>93.994</td>\n",
       "      <td>-36.4</td>\n",
       "      <td>4.857</td>\n",
       "      <td>5191.0</td>\n",
       "      <td>no</td>\n",
       "    </tr>\n",
       "    <tr>\n",
       "      <th>2</th>\n",
       "      <td>37</td>\n",
       "      <td>services</td>\n",
       "      <td>married</td>\n",
       "      <td>high.school</td>\n",
       "      <td>no</td>\n",
       "      <td>yes</td>\n",
       "      <td>no</td>\n",
       "      <td>telephone</td>\n",
       "      <td>may</td>\n",
       "      <td>mon</td>\n",
       "      <td>...</td>\n",
       "      <td>1</td>\n",
       "      <td>999</td>\n",
       "      <td>0</td>\n",
       "      <td>nonexistent</td>\n",
       "      <td>1.1</td>\n",
       "      <td>93.994</td>\n",
       "      <td>-36.4</td>\n",
       "      <td>4.857</td>\n",
       "      <td>5191.0</td>\n",
       "      <td>no</td>\n",
       "    </tr>\n",
       "    <tr>\n",
       "      <th>3</th>\n",
       "      <td>40</td>\n",
       "      <td>admin.</td>\n",
       "      <td>married</td>\n",
       "      <td>basic.6y</td>\n",
       "      <td>no</td>\n",
       "      <td>no</td>\n",
       "      <td>no</td>\n",
       "      <td>telephone</td>\n",
       "      <td>may</td>\n",
       "      <td>mon</td>\n",
       "      <td>...</td>\n",
       "      <td>1</td>\n",
       "      <td>999</td>\n",
       "      <td>0</td>\n",
       "      <td>nonexistent</td>\n",
       "      <td>1.1</td>\n",
       "      <td>93.994</td>\n",
       "      <td>-36.4</td>\n",
       "      <td>4.857</td>\n",
       "      <td>5191.0</td>\n",
       "      <td>no</td>\n",
       "    </tr>\n",
       "    <tr>\n",
       "      <th>4</th>\n",
       "      <td>56</td>\n",
       "      <td>services</td>\n",
       "      <td>married</td>\n",
       "      <td>high.school</td>\n",
       "      <td>no</td>\n",
       "      <td>no</td>\n",
       "      <td>yes</td>\n",
       "      <td>telephone</td>\n",
       "      <td>may</td>\n",
       "      <td>mon</td>\n",
       "      <td>...</td>\n",
       "      <td>1</td>\n",
       "      <td>999</td>\n",
       "      <td>0</td>\n",
       "      <td>nonexistent</td>\n",
       "      <td>1.1</td>\n",
       "      <td>93.994</td>\n",
       "      <td>-36.4</td>\n",
       "      <td>4.857</td>\n",
       "      <td>5191.0</td>\n",
       "      <td>no</td>\n",
       "    </tr>\n",
       "  </tbody>\n",
       "</table>\n",
       "<p>5 rows × 21 columns</p>\n",
       "</div>"
      ],
      "text/plain": [
       "   age        job  marital    education  default housing loan    contact  \\\n",
       "0   56  housemaid  married     basic.4y       no      no   no  telephone   \n",
       "1   57   services  married  high.school  unknown      no   no  telephone   \n",
       "2   37   services  married  high.school       no     yes   no  telephone   \n",
       "3   40     admin.  married     basic.6y       no      no   no  telephone   \n",
       "4   56   services  married  high.school       no      no  yes  telephone   \n",
       "\n",
       "  month day_of_week  ...  campaign  pdays  previous     poutcome emp.var.rate  \\\n",
       "0   may         mon  ...         1    999         0  nonexistent          1.1   \n",
       "1   may         mon  ...         1    999         0  nonexistent          1.1   \n",
       "2   may         mon  ...         1    999         0  nonexistent          1.1   \n",
       "3   may         mon  ...         1    999         0  nonexistent          1.1   \n",
       "4   may         mon  ...         1    999         0  nonexistent          1.1   \n",
       "\n",
       "   cons.price.idx  cons.conf.idx  euribor3m  nr.employed   y  \n",
       "0          93.994          -36.4      4.857       5191.0  no  \n",
       "1          93.994          -36.4      4.857       5191.0  no  \n",
       "2          93.994          -36.4      4.857       5191.0  no  \n",
       "3          93.994          -36.4      4.857       5191.0  no  \n",
       "4          93.994          -36.4      4.857       5191.0  no  \n",
       "\n",
       "[5 rows x 21 columns]"
      ]
     },
     "execution_count": 2,
     "metadata": {},
     "output_type": "execute_result"
    }
   ],
   "source": [
    "df = pd.read_csv('/Users/laytonwoohbill/Desktop/Depaul/2020 - winter/DSC 478 ML/project/bank-additional/bank-additional-full.csv',sep = ';')\n",
    "df.head(5)"
   ]
  },
  {
   "cell_type": "code",
   "execution_count": 3,
   "metadata": {},
   "outputs": [
    {
     "data": {
      "text/html": [
       "<div>\n",
       "<style scoped>\n",
       "    .dataframe tbody tr th:only-of-type {\n",
       "        vertical-align: middle;\n",
       "    }\n",
       "\n",
       "    .dataframe tbody tr th {\n",
       "        vertical-align: top;\n",
       "    }\n",
       "\n",
       "    .dataframe thead th {\n",
       "        text-align: right;\n",
       "    }\n",
       "</style>\n",
       "<table border=\"1\" class=\"dataframe\">\n",
       "  <thead>\n",
       "    <tr style=\"text-align: right;\">\n",
       "      <th></th>\n",
       "      <th>age</th>\n",
       "      <th>job</th>\n",
       "      <th>marital</th>\n",
       "      <th>education</th>\n",
       "      <th>default</th>\n",
       "      <th>housing</th>\n",
       "      <th>loan</th>\n",
       "      <th>contact</th>\n",
       "      <th>month</th>\n",
       "      <th>day_of_week</th>\n",
       "      <th>...</th>\n",
       "      <th>campaign</th>\n",
       "      <th>pdays</th>\n",
       "      <th>previous</th>\n",
       "      <th>poutcome</th>\n",
       "      <th>emp.var.rate</th>\n",
       "      <th>cons.price.idx</th>\n",
       "      <th>cons.conf.idx</th>\n",
       "      <th>euribor3m</th>\n",
       "      <th>nr.employed</th>\n",
       "      <th>y</th>\n",
       "    </tr>\n",
       "  </thead>\n",
       "  <tbody>\n",
       "    <tr>\n",
       "      <th>count</th>\n",
       "      <td>41188.00000</td>\n",
       "      <td>41188</td>\n",
       "      <td>41188</td>\n",
       "      <td>41188</td>\n",
       "      <td>41188</td>\n",
       "      <td>41188</td>\n",
       "      <td>41188</td>\n",
       "      <td>41188</td>\n",
       "      <td>41188</td>\n",
       "      <td>41188</td>\n",
       "      <td>...</td>\n",
       "      <td>41188.000000</td>\n",
       "      <td>41188.000000</td>\n",
       "      <td>41188.000000</td>\n",
       "      <td>41188</td>\n",
       "      <td>41188.000000</td>\n",
       "      <td>41188.000000</td>\n",
       "      <td>41188.000000</td>\n",
       "      <td>41188.000000</td>\n",
       "      <td>41188.000000</td>\n",
       "      <td>41188</td>\n",
       "    </tr>\n",
       "    <tr>\n",
       "      <th>unique</th>\n",
       "      <td>NaN</td>\n",
       "      <td>12</td>\n",
       "      <td>4</td>\n",
       "      <td>8</td>\n",
       "      <td>3</td>\n",
       "      <td>3</td>\n",
       "      <td>3</td>\n",
       "      <td>2</td>\n",
       "      <td>10</td>\n",
       "      <td>5</td>\n",
       "      <td>...</td>\n",
       "      <td>NaN</td>\n",
       "      <td>NaN</td>\n",
       "      <td>NaN</td>\n",
       "      <td>3</td>\n",
       "      <td>NaN</td>\n",
       "      <td>NaN</td>\n",
       "      <td>NaN</td>\n",
       "      <td>NaN</td>\n",
       "      <td>NaN</td>\n",
       "      <td>2</td>\n",
       "    </tr>\n",
       "    <tr>\n",
       "      <th>top</th>\n",
       "      <td>NaN</td>\n",
       "      <td>admin.</td>\n",
       "      <td>married</td>\n",
       "      <td>university.degree</td>\n",
       "      <td>no</td>\n",
       "      <td>yes</td>\n",
       "      <td>no</td>\n",
       "      <td>cellular</td>\n",
       "      <td>may</td>\n",
       "      <td>thu</td>\n",
       "      <td>...</td>\n",
       "      <td>NaN</td>\n",
       "      <td>NaN</td>\n",
       "      <td>NaN</td>\n",
       "      <td>nonexistent</td>\n",
       "      <td>NaN</td>\n",
       "      <td>NaN</td>\n",
       "      <td>NaN</td>\n",
       "      <td>NaN</td>\n",
       "      <td>NaN</td>\n",
       "      <td>no</td>\n",
       "    </tr>\n",
       "    <tr>\n",
       "      <th>freq</th>\n",
       "      <td>NaN</td>\n",
       "      <td>10422</td>\n",
       "      <td>24928</td>\n",
       "      <td>12168</td>\n",
       "      <td>32588</td>\n",
       "      <td>21576</td>\n",
       "      <td>33950</td>\n",
       "      <td>26144</td>\n",
       "      <td>13769</td>\n",
       "      <td>8623</td>\n",
       "      <td>...</td>\n",
       "      <td>NaN</td>\n",
       "      <td>NaN</td>\n",
       "      <td>NaN</td>\n",
       "      <td>35563</td>\n",
       "      <td>NaN</td>\n",
       "      <td>NaN</td>\n",
       "      <td>NaN</td>\n",
       "      <td>NaN</td>\n",
       "      <td>NaN</td>\n",
       "      <td>36548</td>\n",
       "    </tr>\n",
       "    <tr>\n",
       "      <th>mean</th>\n",
       "      <td>40.02406</td>\n",
       "      <td>NaN</td>\n",
       "      <td>NaN</td>\n",
       "      <td>NaN</td>\n",
       "      <td>NaN</td>\n",
       "      <td>NaN</td>\n",
       "      <td>NaN</td>\n",
       "      <td>NaN</td>\n",
       "      <td>NaN</td>\n",
       "      <td>NaN</td>\n",
       "      <td>...</td>\n",
       "      <td>2.567593</td>\n",
       "      <td>962.475454</td>\n",
       "      <td>0.172963</td>\n",
       "      <td>NaN</td>\n",
       "      <td>0.081886</td>\n",
       "      <td>93.575664</td>\n",
       "      <td>-40.502600</td>\n",
       "      <td>3.621291</td>\n",
       "      <td>5167.035911</td>\n",
       "      <td>NaN</td>\n",
       "    </tr>\n",
       "    <tr>\n",
       "      <th>std</th>\n",
       "      <td>10.42125</td>\n",
       "      <td>NaN</td>\n",
       "      <td>NaN</td>\n",
       "      <td>NaN</td>\n",
       "      <td>NaN</td>\n",
       "      <td>NaN</td>\n",
       "      <td>NaN</td>\n",
       "      <td>NaN</td>\n",
       "      <td>NaN</td>\n",
       "      <td>NaN</td>\n",
       "      <td>...</td>\n",
       "      <td>2.770014</td>\n",
       "      <td>186.910907</td>\n",
       "      <td>0.494901</td>\n",
       "      <td>NaN</td>\n",
       "      <td>1.570960</td>\n",
       "      <td>0.578840</td>\n",
       "      <td>4.628198</td>\n",
       "      <td>1.734447</td>\n",
       "      <td>72.251528</td>\n",
       "      <td>NaN</td>\n",
       "    </tr>\n",
       "    <tr>\n",
       "      <th>min</th>\n",
       "      <td>17.00000</td>\n",
       "      <td>NaN</td>\n",
       "      <td>NaN</td>\n",
       "      <td>NaN</td>\n",
       "      <td>NaN</td>\n",
       "      <td>NaN</td>\n",
       "      <td>NaN</td>\n",
       "      <td>NaN</td>\n",
       "      <td>NaN</td>\n",
       "      <td>NaN</td>\n",
       "      <td>...</td>\n",
       "      <td>1.000000</td>\n",
       "      <td>0.000000</td>\n",
       "      <td>0.000000</td>\n",
       "      <td>NaN</td>\n",
       "      <td>-3.400000</td>\n",
       "      <td>92.201000</td>\n",
       "      <td>-50.800000</td>\n",
       "      <td>0.634000</td>\n",
       "      <td>4963.600000</td>\n",
       "      <td>NaN</td>\n",
       "    </tr>\n",
       "    <tr>\n",
       "      <th>25%</th>\n",
       "      <td>32.00000</td>\n",
       "      <td>NaN</td>\n",
       "      <td>NaN</td>\n",
       "      <td>NaN</td>\n",
       "      <td>NaN</td>\n",
       "      <td>NaN</td>\n",
       "      <td>NaN</td>\n",
       "      <td>NaN</td>\n",
       "      <td>NaN</td>\n",
       "      <td>NaN</td>\n",
       "      <td>...</td>\n",
       "      <td>1.000000</td>\n",
       "      <td>999.000000</td>\n",
       "      <td>0.000000</td>\n",
       "      <td>NaN</td>\n",
       "      <td>-1.800000</td>\n",
       "      <td>93.075000</td>\n",
       "      <td>-42.700000</td>\n",
       "      <td>1.344000</td>\n",
       "      <td>5099.100000</td>\n",
       "      <td>NaN</td>\n",
       "    </tr>\n",
       "    <tr>\n",
       "      <th>50%</th>\n",
       "      <td>38.00000</td>\n",
       "      <td>NaN</td>\n",
       "      <td>NaN</td>\n",
       "      <td>NaN</td>\n",
       "      <td>NaN</td>\n",
       "      <td>NaN</td>\n",
       "      <td>NaN</td>\n",
       "      <td>NaN</td>\n",
       "      <td>NaN</td>\n",
       "      <td>NaN</td>\n",
       "      <td>...</td>\n",
       "      <td>2.000000</td>\n",
       "      <td>999.000000</td>\n",
       "      <td>0.000000</td>\n",
       "      <td>NaN</td>\n",
       "      <td>1.100000</td>\n",
       "      <td>93.749000</td>\n",
       "      <td>-41.800000</td>\n",
       "      <td>4.857000</td>\n",
       "      <td>5191.000000</td>\n",
       "      <td>NaN</td>\n",
       "    </tr>\n",
       "    <tr>\n",
       "      <th>75%</th>\n",
       "      <td>47.00000</td>\n",
       "      <td>NaN</td>\n",
       "      <td>NaN</td>\n",
       "      <td>NaN</td>\n",
       "      <td>NaN</td>\n",
       "      <td>NaN</td>\n",
       "      <td>NaN</td>\n",
       "      <td>NaN</td>\n",
       "      <td>NaN</td>\n",
       "      <td>NaN</td>\n",
       "      <td>...</td>\n",
       "      <td>3.000000</td>\n",
       "      <td>999.000000</td>\n",
       "      <td>0.000000</td>\n",
       "      <td>NaN</td>\n",
       "      <td>1.400000</td>\n",
       "      <td>93.994000</td>\n",
       "      <td>-36.400000</td>\n",
       "      <td>4.961000</td>\n",
       "      <td>5228.100000</td>\n",
       "      <td>NaN</td>\n",
       "    </tr>\n",
       "    <tr>\n",
       "      <th>max</th>\n",
       "      <td>98.00000</td>\n",
       "      <td>NaN</td>\n",
       "      <td>NaN</td>\n",
       "      <td>NaN</td>\n",
       "      <td>NaN</td>\n",
       "      <td>NaN</td>\n",
       "      <td>NaN</td>\n",
       "      <td>NaN</td>\n",
       "      <td>NaN</td>\n",
       "      <td>NaN</td>\n",
       "      <td>...</td>\n",
       "      <td>56.000000</td>\n",
       "      <td>999.000000</td>\n",
       "      <td>7.000000</td>\n",
       "      <td>NaN</td>\n",
       "      <td>1.400000</td>\n",
       "      <td>94.767000</td>\n",
       "      <td>-26.900000</td>\n",
       "      <td>5.045000</td>\n",
       "      <td>5228.100000</td>\n",
       "      <td>NaN</td>\n",
       "    </tr>\n",
       "  </tbody>\n",
       "</table>\n",
       "<p>11 rows × 21 columns</p>\n",
       "</div>"
      ],
      "text/plain": [
       "                age     job  marital          education default housing  \\\n",
       "count   41188.00000   41188    41188              41188   41188   41188   \n",
       "unique          NaN      12        4                  8       3       3   \n",
       "top             NaN  admin.  married  university.degree      no     yes   \n",
       "freq            NaN   10422    24928              12168   32588   21576   \n",
       "mean       40.02406     NaN      NaN                NaN     NaN     NaN   \n",
       "std        10.42125     NaN      NaN                NaN     NaN     NaN   \n",
       "min        17.00000     NaN      NaN                NaN     NaN     NaN   \n",
       "25%        32.00000     NaN      NaN                NaN     NaN     NaN   \n",
       "50%        38.00000     NaN      NaN                NaN     NaN     NaN   \n",
       "75%        47.00000     NaN      NaN                NaN     NaN     NaN   \n",
       "max        98.00000     NaN      NaN                NaN     NaN     NaN   \n",
       "\n",
       "         loan   contact  month day_of_week  ...      campaign         pdays  \\\n",
       "count   41188     41188  41188       41188  ...  41188.000000  41188.000000   \n",
       "unique      3         2     10           5  ...           NaN           NaN   \n",
       "top        no  cellular    may         thu  ...           NaN           NaN   \n",
       "freq    33950     26144  13769        8623  ...           NaN           NaN   \n",
       "mean      NaN       NaN    NaN         NaN  ...      2.567593    962.475454   \n",
       "std       NaN       NaN    NaN         NaN  ...      2.770014    186.910907   \n",
       "min       NaN       NaN    NaN         NaN  ...      1.000000      0.000000   \n",
       "25%       NaN       NaN    NaN         NaN  ...      1.000000    999.000000   \n",
       "50%       NaN       NaN    NaN         NaN  ...      2.000000    999.000000   \n",
       "75%       NaN       NaN    NaN         NaN  ...      3.000000    999.000000   \n",
       "max       NaN       NaN    NaN         NaN  ...     56.000000    999.000000   \n",
       "\n",
       "            previous     poutcome  emp.var.rate  cons.price.idx  \\\n",
       "count   41188.000000        41188  41188.000000    41188.000000   \n",
       "unique           NaN            3           NaN             NaN   \n",
       "top              NaN  nonexistent           NaN             NaN   \n",
       "freq             NaN        35563           NaN             NaN   \n",
       "mean        0.172963          NaN      0.081886       93.575664   \n",
       "std         0.494901          NaN      1.570960        0.578840   \n",
       "min         0.000000          NaN     -3.400000       92.201000   \n",
       "25%         0.000000          NaN     -1.800000       93.075000   \n",
       "50%         0.000000          NaN      1.100000       93.749000   \n",
       "75%         0.000000          NaN      1.400000       93.994000   \n",
       "max         7.000000          NaN      1.400000       94.767000   \n",
       "\n",
       "        cons.conf.idx     euribor3m   nr.employed      y  \n",
       "count    41188.000000  41188.000000  41188.000000  41188  \n",
       "unique            NaN           NaN           NaN      2  \n",
       "top               NaN           NaN           NaN     no  \n",
       "freq              NaN           NaN           NaN  36548  \n",
       "mean       -40.502600      3.621291   5167.035911    NaN  \n",
       "std          4.628198      1.734447     72.251528    NaN  \n",
       "min        -50.800000      0.634000   4963.600000    NaN  \n",
       "25%        -42.700000      1.344000   5099.100000    NaN  \n",
       "50%        -41.800000      4.857000   5191.000000    NaN  \n",
       "75%        -36.400000      4.961000   5228.100000    NaN  \n",
       "max        -26.900000      5.045000   5228.100000    NaN  \n",
       "\n",
       "[11 rows x 21 columns]"
      ]
     },
     "execution_count": 3,
     "metadata": {},
     "output_type": "execute_result"
    }
   ],
   "source": [
    "df.describe(include='all')"
   ]
  },
  {
   "cell_type": "code",
   "execution_count": 4,
   "metadata": {},
   "outputs": [
    {
     "data": {
      "text/plain": [
       "no     36548\n",
       "yes     4640\n",
       "Name: y, dtype: int64"
      ]
     },
     "execution_count": 4,
     "metadata": {},
     "output_type": "execute_result"
    }
   ],
   "source": [
    "df['y'].value_counts() "
   ]
  },
  {
   "cell_type": "code",
   "execution_count": 5,
   "metadata": {},
   "outputs": [
    {
     "name": "stdout",
     "output_type": "stream",
     "text": [
      "<class 'pandas.core.frame.DataFrame'>\n",
      "RangeIndex: 41188 entries, 0 to 41187\n",
      "Data columns (total 21 columns):\n",
      "age               41188 non-null int64\n",
      "job               41188 non-null object\n",
      "marital           41188 non-null object\n",
      "education         41188 non-null object\n",
      "default           41188 non-null object\n",
      "housing           41188 non-null object\n",
      "loan              41188 non-null object\n",
      "contact           41188 non-null object\n",
      "month             41188 non-null object\n",
      "day_of_week       41188 non-null object\n",
      "duration          41188 non-null int64\n",
      "campaign          41188 non-null int64\n",
      "pdays             41188 non-null int64\n",
      "previous          41188 non-null int64\n",
      "poutcome          41188 non-null object\n",
      "emp.var.rate      41188 non-null float64\n",
      "cons.price.idx    41188 non-null float64\n",
      "cons.conf.idx     41188 non-null float64\n",
      "euribor3m         41188 non-null float64\n",
      "nr.employed       41188 non-null float64\n",
      "y                 41188 non-null object\n",
      "dtypes: float64(5), int64(5), object(11)\n",
      "memory usage: 6.6+ MB\n"
     ]
    }
   ],
   "source": [
    "df.info()"
   ]
  },
  {
   "cell_type": "code",
   "execution_count": 6,
   "metadata": {},
   "outputs": [
    {
     "name": "stdout",
     "output_type": "stream",
     "text": [
      "There are 0 rows have missing value(0, 21)\n"
     ]
    }
   ],
   "source": [
    "print(\"There are 0 rows have missing value\"+str(df[df.isnull().any(axis=1)].shape))"
   ]
  },
  {
   "cell_type": "code",
   "execution_count": 7,
   "metadata": {},
   "outputs": [],
   "source": [
    "df.replace(to_replace={'y':'yes'}, value=1, inplace=True)\n",
    "df.replace(to_replace={'y':'no'}, value=0, inplace=True)"
   ]
  },
  {
   "cell_type": "code",
   "execution_count": 8,
   "metadata": {},
   "outputs": [
    {
     "data": {
      "text/html": [
       "<div>\n",
       "<style scoped>\n",
       "    .dataframe tbody tr th:only-of-type {\n",
       "        vertical-align: middle;\n",
       "    }\n",
       "\n",
       "    .dataframe tbody tr th {\n",
       "        vertical-align: top;\n",
       "    }\n",
       "\n",
       "    .dataframe thead th {\n",
       "        text-align: right;\n",
       "    }\n",
       "</style>\n",
       "<table border=\"1\" class=\"dataframe\">\n",
       "  <thead>\n",
       "    <tr style=\"text-align: right;\">\n",
       "      <th></th>\n",
       "      <th>age</th>\n",
       "      <th>job</th>\n",
       "      <th>marital</th>\n",
       "      <th>education</th>\n",
       "      <th>default</th>\n",
       "      <th>housing</th>\n",
       "      <th>loan</th>\n",
       "      <th>contact</th>\n",
       "      <th>month</th>\n",
       "      <th>day_of_week</th>\n",
       "      <th>...</th>\n",
       "      <th>campaign</th>\n",
       "      <th>pdays</th>\n",
       "      <th>previous</th>\n",
       "      <th>poutcome</th>\n",
       "      <th>emp.var.rate</th>\n",
       "      <th>cons.price.idx</th>\n",
       "      <th>cons.conf.idx</th>\n",
       "      <th>euribor3m</th>\n",
       "      <th>nr.employed</th>\n",
       "      <th>y</th>\n",
       "    </tr>\n",
       "  </thead>\n",
       "  <tbody>\n",
       "    <tr>\n",
       "      <th>0</th>\n",
       "      <td>56</td>\n",
       "      <td>housemaid</td>\n",
       "      <td>married</td>\n",
       "      <td>basic.4y</td>\n",
       "      <td>no</td>\n",
       "      <td>no</td>\n",
       "      <td>no</td>\n",
       "      <td>telephone</td>\n",
       "      <td>may</td>\n",
       "      <td>mon</td>\n",
       "      <td>...</td>\n",
       "      <td>1</td>\n",
       "      <td>999</td>\n",
       "      <td>0</td>\n",
       "      <td>nonexistent</td>\n",
       "      <td>1.1</td>\n",
       "      <td>93.994</td>\n",
       "      <td>-36.4</td>\n",
       "      <td>4.857</td>\n",
       "      <td>5191.0</td>\n",
       "      <td>0</td>\n",
       "    </tr>\n",
       "    <tr>\n",
       "      <th>1</th>\n",
       "      <td>57</td>\n",
       "      <td>services</td>\n",
       "      <td>married</td>\n",
       "      <td>high.school</td>\n",
       "      <td>unknown</td>\n",
       "      <td>no</td>\n",
       "      <td>no</td>\n",
       "      <td>telephone</td>\n",
       "      <td>may</td>\n",
       "      <td>mon</td>\n",
       "      <td>...</td>\n",
       "      <td>1</td>\n",
       "      <td>999</td>\n",
       "      <td>0</td>\n",
       "      <td>nonexistent</td>\n",
       "      <td>1.1</td>\n",
       "      <td>93.994</td>\n",
       "      <td>-36.4</td>\n",
       "      <td>4.857</td>\n",
       "      <td>5191.0</td>\n",
       "      <td>0</td>\n",
       "    </tr>\n",
       "    <tr>\n",
       "      <th>2</th>\n",
       "      <td>37</td>\n",
       "      <td>services</td>\n",
       "      <td>married</td>\n",
       "      <td>high.school</td>\n",
       "      <td>no</td>\n",
       "      <td>yes</td>\n",
       "      <td>no</td>\n",
       "      <td>telephone</td>\n",
       "      <td>may</td>\n",
       "      <td>mon</td>\n",
       "      <td>...</td>\n",
       "      <td>1</td>\n",
       "      <td>999</td>\n",
       "      <td>0</td>\n",
       "      <td>nonexistent</td>\n",
       "      <td>1.1</td>\n",
       "      <td>93.994</td>\n",
       "      <td>-36.4</td>\n",
       "      <td>4.857</td>\n",
       "      <td>5191.0</td>\n",
       "      <td>0</td>\n",
       "    </tr>\n",
       "    <tr>\n",
       "      <th>3</th>\n",
       "      <td>40</td>\n",
       "      <td>admin.</td>\n",
       "      <td>married</td>\n",
       "      <td>basic.6y</td>\n",
       "      <td>no</td>\n",
       "      <td>no</td>\n",
       "      <td>no</td>\n",
       "      <td>telephone</td>\n",
       "      <td>may</td>\n",
       "      <td>mon</td>\n",
       "      <td>...</td>\n",
       "      <td>1</td>\n",
       "      <td>999</td>\n",
       "      <td>0</td>\n",
       "      <td>nonexistent</td>\n",
       "      <td>1.1</td>\n",
       "      <td>93.994</td>\n",
       "      <td>-36.4</td>\n",
       "      <td>4.857</td>\n",
       "      <td>5191.0</td>\n",
       "      <td>0</td>\n",
       "    </tr>\n",
       "    <tr>\n",
       "      <th>4</th>\n",
       "      <td>56</td>\n",
       "      <td>services</td>\n",
       "      <td>married</td>\n",
       "      <td>high.school</td>\n",
       "      <td>no</td>\n",
       "      <td>no</td>\n",
       "      <td>yes</td>\n",
       "      <td>telephone</td>\n",
       "      <td>may</td>\n",
       "      <td>mon</td>\n",
       "      <td>...</td>\n",
       "      <td>1</td>\n",
       "      <td>999</td>\n",
       "      <td>0</td>\n",
       "      <td>nonexistent</td>\n",
       "      <td>1.1</td>\n",
       "      <td>93.994</td>\n",
       "      <td>-36.4</td>\n",
       "      <td>4.857</td>\n",
       "      <td>5191.0</td>\n",
       "      <td>0</td>\n",
       "    </tr>\n",
       "    <tr>\n",
       "      <th>...</th>\n",
       "      <td>...</td>\n",
       "      <td>...</td>\n",
       "      <td>...</td>\n",
       "      <td>...</td>\n",
       "      <td>...</td>\n",
       "      <td>...</td>\n",
       "      <td>...</td>\n",
       "      <td>...</td>\n",
       "      <td>...</td>\n",
       "      <td>...</td>\n",
       "      <td>...</td>\n",
       "      <td>...</td>\n",
       "      <td>...</td>\n",
       "      <td>...</td>\n",
       "      <td>...</td>\n",
       "      <td>...</td>\n",
       "      <td>...</td>\n",
       "      <td>...</td>\n",
       "      <td>...</td>\n",
       "      <td>...</td>\n",
       "      <td>...</td>\n",
       "    </tr>\n",
       "    <tr>\n",
       "      <th>41183</th>\n",
       "      <td>73</td>\n",
       "      <td>retired</td>\n",
       "      <td>married</td>\n",
       "      <td>professional.course</td>\n",
       "      <td>no</td>\n",
       "      <td>yes</td>\n",
       "      <td>no</td>\n",
       "      <td>cellular</td>\n",
       "      <td>nov</td>\n",
       "      <td>fri</td>\n",
       "      <td>...</td>\n",
       "      <td>1</td>\n",
       "      <td>999</td>\n",
       "      <td>0</td>\n",
       "      <td>nonexistent</td>\n",
       "      <td>-1.1</td>\n",
       "      <td>94.767</td>\n",
       "      <td>-50.8</td>\n",
       "      <td>1.028</td>\n",
       "      <td>4963.6</td>\n",
       "      <td>1</td>\n",
       "    </tr>\n",
       "    <tr>\n",
       "      <th>41184</th>\n",
       "      <td>46</td>\n",
       "      <td>blue-collar</td>\n",
       "      <td>married</td>\n",
       "      <td>professional.course</td>\n",
       "      <td>no</td>\n",
       "      <td>no</td>\n",
       "      <td>no</td>\n",
       "      <td>cellular</td>\n",
       "      <td>nov</td>\n",
       "      <td>fri</td>\n",
       "      <td>...</td>\n",
       "      <td>1</td>\n",
       "      <td>999</td>\n",
       "      <td>0</td>\n",
       "      <td>nonexistent</td>\n",
       "      <td>-1.1</td>\n",
       "      <td>94.767</td>\n",
       "      <td>-50.8</td>\n",
       "      <td>1.028</td>\n",
       "      <td>4963.6</td>\n",
       "      <td>0</td>\n",
       "    </tr>\n",
       "    <tr>\n",
       "      <th>41185</th>\n",
       "      <td>56</td>\n",
       "      <td>retired</td>\n",
       "      <td>married</td>\n",
       "      <td>university.degree</td>\n",
       "      <td>no</td>\n",
       "      <td>yes</td>\n",
       "      <td>no</td>\n",
       "      <td>cellular</td>\n",
       "      <td>nov</td>\n",
       "      <td>fri</td>\n",
       "      <td>...</td>\n",
       "      <td>2</td>\n",
       "      <td>999</td>\n",
       "      <td>0</td>\n",
       "      <td>nonexistent</td>\n",
       "      <td>-1.1</td>\n",
       "      <td>94.767</td>\n",
       "      <td>-50.8</td>\n",
       "      <td>1.028</td>\n",
       "      <td>4963.6</td>\n",
       "      <td>0</td>\n",
       "    </tr>\n",
       "    <tr>\n",
       "      <th>41186</th>\n",
       "      <td>44</td>\n",
       "      <td>technician</td>\n",
       "      <td>married</td>\n",
       "      <td>professional.course</td>\n",
       "      <td>no</td>\n",
       "      <td>no</td>\n",
       "      <td>no</td>\n",
       "      <td>cellular</td>\n",
       "      <td>nov</td>\n",
       "      <td>fri</td>\n",
       "      <td>...</td>\n",
       "      <td>1</td>\n",
       "      <td>999</td>\n",
       "      <td>0</td>\n",
       "      <td>nonexistent</td>\n",
       "      <td>-1.1</td>\n",
       "      <td>94.767</td>\n",
       "      <td>-50.8</td>\n",
       "      <td>1.028</td>\n",
       "      <td>4963.6</td>\n",
       "      <td>1</td>\n",
       "    </tr>\n",
       "    <tr>\n",
       "      <th>41187</th>\n",
       "      <td>74</td>\n",
       "      <td>retired</td>\n",
       "      <td>married</td>\n",
       "      <td>professional.course</td>\n",
       "      <td>no</td>\n",
       "      <td>yes</td>\n",
       "      <td>no</td>\n",
       "      <td>cellular</td>\n",
       "      <td>nov</td>\n",
       "      <td>fri</td>\n",
       "      <td>...</td>\n",
       "      <td>3</td>\n",
       "      <td>999</td>\n",
       "      <td>1</td>\n",
       "      <td>failure</td>\n",
       "      <td>-1.1</td>\n",
       "      <td>94.767</td>\n",
       "      <td>-50.8</td>\n",
       "      <td>1.028</td>\n",
       "      <td>4963.6</td>\n",
       "      <td>0</td>\n",
       "    </tr>\n",
       "  </tbody>\n",
       "</table>\n",
       "<p>41188 rows × 21 columns</p>\n",
       "</div>"
      ],
      "text/plain": [
       "       age          job  marital            education  default housing loan  \\\n",
       "0       56    housemaid  married             basic.4y       no      no   no   \n",
       "1       57     services  married          high.school  unknown      no   no   \n",
       "2       37     services  married          high.school       no     yes   no   \n",
       "3       40       admin.  married             basic.6y       no      no   no   \n",
       "4       56     services  married          high.school       no      no  yes   \n",
       "...    ...          ...      ...                  ...      ...     ...  ...   \n",
       "41183   73      retired  married  professional.course       no     yes   no   \n",
       "41184   46  blue-collar  married  professional.course       no      no   no   \n",
       "41185   56      retired  married    university.degree       no     yes   no   \n",
       "41186   44   technician  married  professional.course       no      no   no   \n",
       "41187   74      retired  married  professional.course       no     yes   no   \n",
       "\n",
       "         contact month day_of_week  ...  campaign  pdays  previous  \\\n",
       "0      telephone   may         mon  ...         1    999         0   \n",
       "1      telephone   may         mon  ...         1    999         0   \n",
       "2      telephone   may         mon  ...         1    999         0   \n",
       "3      telephone   may         mon  ...         1    999         0   \n",
       "4      telephone   may         mon  ...         1    999         0   \n",
       "...          ...   ...         ...  ...       ...    ...       ...   \n",
       "41183   cellular   nov         fri  ...         1    999         0   \n",
       "41184   cellular   nov         fri  ...         1    999         0   \n",
       "41185   cellular   nov         fri  ...         2    999         0   \n",
       "41186   cellular   nov         fri  ...         1    999         0   \n",
       "41187   cellular   nov         fri  ...         3    999         1   \n",
       "\n",
       "          poutcome emp.var.rate  cons.price.idx  cons.conf.idx  euribor3m  \\\n",
       "0      nonexistent          1.1          93.994          -36.4      4.857   \n",
       "1      nonexistent          1.1          93.994          -36.4      4.857   \n",
       "2      nonexistent          1.1          93.994          -36.4      4.857   \n",
       "3      nonexistent          1.1          93.994          -36.4      4.857   \n",
       "4      nonexistent          1.1          93.994          -36.4      4.857   \n",
       "...            ...          ...             ...            ...        ...   \n",
       "41183  nonexistent         -1.1          94.767          -50.8      1.028   \n",
       "41184  nonexistent         -1.1          94.767          -50.8      1.028   \n",
       "41185  nonexistent         -1.1          94.767          -50.8      1.028   \n",
       "41186  nonexistent         -1.1          94.767          -50.8      1.028   \n",
       "41187      failure         -1.1          94.767          -50.8      1.028   \n",
       "\n",
       "       nr.employed  y  \n",
       "0           5191.0  0  \n",
       "1           5191.0  0  \n",
       "2           5191.0  0  \n",
       "3           5191.0  0  \n",
       "4           5191.0  0  \n",
       "...            ... ..  \n",
       "41183       4963.6  1  \n",
       "41184       4963.6  0  \n",
       "41185       4963.6  0  \n",
       "41186       4963.6  1  \n",
       "41187       4963.6  0  \n",
       "\n",
       "[41188 rows x 21 columns]"
      ]
     },
     "execution_count": 8,
     "metadata": {},
     "output_type": "execute_result"
    }
   ],
   "source": [
    "df"
   ]
  },
  {
   "cell_type": "markdown",
   "metadata": {},
   "source": [
    "#### Splite train and test data "
   ]
  },
  {
   "cell_type": "code",
   "execution_count": 9,
   "metadata": {},
   "outputs": [],
   "source": [
    "from sklearn.model_selection import train_test_split\n",
    "target= df['y']\n",
    "df_matrix=df.drop(columns='y')\n",
    "df_matrix\n",
    "dum_df=pd.get_dummies(df_matrix)\n",
    "dum_df\n",
    "                      \n",
    "x_train, y_test, x_target, y_target = train_test_split(dum_df, target, test_size=0.20, random_state=42)"
   ]
  },
  {
   "cell_type": "markdown",
   "metadata": {},
   "source": [
    "#### Dataframe to Numpy"
   ]
  },
  {
   "cell_type": "code",
   "execution_count": 10,
   "metadata": {},
   "outputs": [
    {
     "name": "stdout",
     "output_type": "stream",
     "text": [
      "Train: age                      40.017420\n",
      "duration                257.746313\n",
      "campaign                  2.572959\n",
      "pdays                   962.745341\n",
      "previous                  0.172989\n",
      "                           ...    \n",
      "day_of_week_tue           0.197663\n",
      "day_of_week_wed           0.197360\n",
      "poutcome_failure          0.103885\n",
      "poutcome_nonexistent      0.863035\n",
      "poutcome_success          0.033080\n",
      "Length: 63, dtype: float64 Test: 0.11244309559939301\n",
      "Train: age                      40.050619\n",
      "duration                260.439670\n",
      "campaign                  2.546128\n",
      "pdays                   961.395970\n",
      "previous                  0.172857\n",
      "                           ...    \n",
      "day_of_week_tue           0.191430\n",
      "day_of_week_wed           0.197985\n",
      "poutcome_failure          0.100631\n",
      "poutcome_nonexistent      0.865016\n",
      "poutcome_success          0.034353\n",
      "Length: 63, dtype: float64 Test: 0.11349842194707453\n"
     ]
    }
   ],
   "source": [
    "print('Train:', x_train.mean(), 'Test:', x_target.mean())\n",
    "print('Train:', y_test.mean(), 'Test:', y_target.mean())"
   ]
  },
  {
   "cell_type": "code",
   "execution_count": 11,
   "metadata": {},
   "outputs": [],
   "source": [
    "#x_train, y_test, x_target, y_target\n",
    "\n",
    "x_train= np.array(x_train)\n",
    "#x_train\n",
    "x_target=np.array(x_target)\n",
    "#x_test\n",
    "y_test= np.array(y_test)\n",
    "#y_train\n",
    "y_target=np.array(y_target)\n",
    "#y_test.shape"
   ]
  },
  {
   "cell_type": "markdown",
   "metadata": {},
   "source": [
    "## LogisticRegression\n",
    "\n",
    "For the Logistic regression result. We compared the training accuracy and the testing accuracy for the normal without any regularization, L1 ​regularization, L2 regularization and ​Elastic-Net. Moreover, for our ​regularization, we also ​tested four different ​inverse of regularization strength numbers from C = [10, 1, 0.1, 0.001]. First, Our normal ​Logistic regression, we got ​training accuracy in 91.04 % and test accuracy in 91.05 %. Second, in L1 regularization, we picked C=10 to achieve best accuracy which is 91.14% in training accuracy and 91.11% in testing accuracy. Third, in L2 regularization, we picked C=0.001 to achieve best accuracy, and ​we got training accuracy in 90.87% and test accuracy in 91.06%. Last, in ​Elastic-Net, we also added one more penalty, ​l1_ratio, to find the sweet spot for L1 and L2​. There were five different values for l1_ratio [1,.5,.1,.01,.001], because ​l1_ratio should be be​tween 1 to 0. To get our best accuracy, we picked C= 0.001 and l1_ratio = 0.5, so ​we got ​training accuracy in 90.58% and test accuracy in 90.7%. Based on all our four models, although there was not a huge difference between all of them, because they all surrounded at 90% to 91%, we still finally chose L1 regularization to be\n",
    " \n",
    "our better performance model which resulted in 91.11% testing accuracy. Furthermore, the Precision and recall both had high percent performance  and on the confusion matrix, general performed well, but for false positive, which was mean the client didn’t subscribed a term deposit, but classify as subscribed​, ​seems still had amount of number to be solved in future. Finally, in our ​L1 regularization ​ROC curve, it also showed that even if we raised up the thresholds, but we still could not fix the False Positive, it seemed to be flatten after the true positive rate over 0.9."
   ]
  },
  {
   "cell_type": "markdown",
   "metadata": {},
   "source": [
    "### Normal Logistic regression"
   ]
  },
  {
   "cell_type": "code",
   "execution_count": 12,
   "metadata": {},
   "outputs": [
    {
     "name": "stdout",
     "output_type": "stream",
     "text": [
      "Coefficient of each feature: \n",
      "\n",
      " [[ 2.40134184e-03  4.52024398e-03  3.37600996e-02 -1.52279657e-03\n",
      "  -9.09315229e-02 -1.86501857e-01  4.37889068e-01  3.82835735e-02\n",
      "  -2.12979105e-01 -8.05410854e-03  6.15996550e-02 -1.22324867e-01\n",
      "  -8.82190582e-03 -3.07771318e-03  2.22593998e-03  4.11607729e-02\n",
      "  -8.52538627e-03 -3.44845211e-02  3.04195086e-02  3.88289382e-02\n",
      "   8.72279066e-03 -2.06721221e-03  3.08873364e-04 -6.94751945e-02\n",
      "   7.36920463e-02 -8.69725387e-04 -2.18733169e-02 -1.89006832e-02\n",
      "  -6.06789219e-02 -3.55548535e-02  5.66848045e-04  9.57163283e-03\n",
      "   1.26375762e-01  4.14953208e-03  1.01327287e-01 -9.76279757e-02\n",
      "  -4.33116807e-05 -1.90686530e-03  7.79500695e-04  4.78336434e-03\n",
      "   1.06040501e-02  7.79500695e-04 -7.72755108e-03  1.35736144e-01\n",
      "  -1.32080144e-01  2.41459019e-02  5.34851459e-02  1.85943591e-03\n",
      "   9.26637239e-02  7.65631283e-02  1.02344949e-01 -3.58336357e-01\n",
      "  -2.27138477e-02  2.97529017e-02  3.89101829e-03 -2.56886542e-02\n",
      "  -3.59201795e-02  1.32373947e-02  3.23976238e-02  1.96298149e-02\n",
      "  -1.06391576e-01  9.42572938e-02  1.57902818e-02]]\n",
      "\n",
      "Training accuracy: 0.9104400606980273\n",
      "\n",
      "Test accuracy: 0.910536537994659\n"
     ]
    },
    {
     "name": "stderr",
     "output_type": "stream",
     "text": [
      "/anaconda3/lib/python3.7/site-packages/sklearn/linear_model/logistic.py:947: ConvergenceWarning: lbfgs failed to converge. Increase the number of iterations.\n",
      "  \"of iterations.\", ConvergenceWarning)\n"
     ]
    }
   ],
   "source": [
    "from sklearn.linear_model import LogisticRegression\n",
    "logreg=LogisticRegression(penalty=\"none\", solver = \"lbfgs\")\n",
    "logreg.fit(x_train, x_target)\n",
    "preds_train = logreg.predict(x_train)\n",
    "preds_train.shape\n",
    "#print(logreg.score(preds_test, y))\n",
    "print('Coefficient of each feature: \\n\\n', logreg.coef_)\n",
    "print('\\nTraining accuracy:', logreg.score(x_train, x_target))\n",
    "print('\\nTest accuracy:', logreg.score(y_test, y_target))"
   ]
  },
  {
   "cell_type": "code",
   "execution_count": 13,
   "metadata": {},
   "outputs": [
    {
     "name": "stdout",
     "output_type": "stream",
     "text": [
      "              precision    recall  f1-score   support\n",
      "\n",
      "           0       0.97      0.93      0.95     30662\n",
      "           1       0.41      0.66      0.51      2288\n",
      "\n",
      "    accuracy                           0.91     32950\n",
      "   macro avg       0.69      0.80      0.73     32950\n",
      "weighted avg       0.93      0.91      0.92     32950\n",
      "\n",
      "Predict Training Data with Actual Training Data: \n",
      " [[28478  2184]\n",
      " [  767  1521]]\n",
      "              precision    recall  f1-score   support\n",
      "\n",
      "           0       0.97      0.93      0.95      7662\n",
      "           1       0.41      0.67      0.51       576\n",
      "\n",
      "    accuracy                           0.91      8238\n",
      "   macro avg       0.69      0.80      0.73      8238\n",
      "weighted avg       0.93      0.91      0.92      8238\n",
      "\n",
      "Predict Testing Data with Actual Testing Data: \n",
      " [[7114  548]\n",
      " [ 189  387]]\n"
     ]
    }
   ],
   "source": [
    "from sklearn.metrics import confusion_matrix\n",
    "from sklearn.metrics import classification_report\n",
    "print(classification_report(preds_train, x_target))\n",
    "logregtraincm = confusion_matrix(preds_train, x_target)\n",
    "print(\"Predict Training Data with Actual Training Data: \\n\", logregtraincm)\n",
    "# predict test data\n",
    "preds_test = logreg.predict(y_test)\n",
    "#preds_test.shape\n",
    "print(classification_report(preds_test, y_target))\n",
    "logregtestcm = confusion_matrix(preds_test, y_target)\n",
    "print(\"Predict Testing Data with Actual Testing Data: \\n\" ,logregtestcm)"
   ]
  },
  {
   "cell_type": "code",
   "execution_count": 14,
   "metadata": {},
   "outputs": [],
   "source": [
    "import numpy as np\n",
    "\n",
    "\n",
    "def plot_confusion_matrix(cm,\n",
    "                          target_names,\n",
    "                          title='Confusion matrix',\n",
    "                          cmap=None,\n",
    "                          normalize=True):\n",
    "    \n",
    "    import matplotlib.pyplot as plt\n",
    "    import numpy as np\n",
    "    import itertools\n",
    "\n",
    "    accuracy = np.trace(cm) / float(np.sum(cm))\n",
    "    misclass = 1 - accuracy\n",
    "\n",
    "    if cmap is None:\n",
    "        cmap = plt.get_cmap('Blues')\n",
    "\n",
    "    plt.figure(figsize=(8, 6))\n",
    "    plt.imshow(cm, interpolation='nearest', cmap=cmap)\n",
    "    plt.title(title)\n",
    "    plt.colorbar()\n",
    "\n",
    "    if target_names is not None:\n",
    "        tick_marks = np.arange(len(target_names))\n",
    "        plt.xticks(tick_marks, target_names, rotation=45)\n",
    "        plt.yticks(tick_marks, target_names)\n",
    "\n",
    "    if normalize:\n",
    "        cm = cm.astype('float') / cm.sum(axis=1)[:, np.newaxis]\n",
    "\n",
    "\n",
    "    thresh = cm.max() / 1.5 if normalize else cm.max() / 2\n",
    "    for i, j in itertools.product(range(cm.shape[0]), range(cm.shape[1])):\n",
    "        if normalize:\n",
    "            plt.text(j, i, \"{:0.4f}\".format(cm[i, j]),\n",
    "                     horizontalalignment=\"center\",\n",
    "                     color=\"white\" if cm[i, j] > thresh else \"black\")\n",
    "        else:\n",
    "            plt.text(j, i, \"{:,}\".format(cm[i, j]),\n",
    "                     horizontalalignment=\"center\",\n",
    "                     color=\"white\" if cm[i, j] > thresh else \"black\")\n",
    "\n",
    "\n",
    "    plt.tight_layout()\n",
    "    plt.ylabel('True label')\n",
    "    plt.xlabel('Predicted label\\naccuracy={:0.4f}; misclass={:0.4f}'.format(accuracy, misclass))\n",
    "    plt.savefig(title+'png')\n",
    "    plt.show()\n"
   ]
  },
  {
   "cell_type": "code",
   "execution_count": 15,
   "metadata": {},
   "outputs": [
    {
     "data": {
      "image/png": "[encoded data removed]",
      "text/plain": [
       "<Figure size 576x432 with 2 Axes>"
      ]
     },
     "metadata": {
      "needs_background": "light"
     },
     "output_type": "display_data"
    }
   ],
   "source": [
    "plot_confusion_matrix(cm = logregtestcm, \n",
    "                      normalize    = False,\n",
    "                      target_names = ['0', '1'],\n",
    "                      title        = \"Testing Data with Logistic Regression Confusion Matrix\")"
   ]
  },
  {
   "cell_type": "code",
   "execution_count": 16,
   "metadata": {},
   "outputs": [
    {
     "data": {
      "image/png": "[encoded data removed]",
      "text/plain": [
       "<Figure size 576x432 with 1 Axes>"
      ]
     },
     "metadata": {
      "needs_background": "light"
     },
     "output_type": "display_data"
    }
   ],
   "source": [
    "import matplotlib.pyplot as plt\n",
    "from sklearn.metrics import roc_auc_score\n",
    "from sklearn.metrics import roc_curve\n",
    "logit_roc_auc = roc_auc_score(y_target, logreg.predict(y_test))\n",
    "fpr, tpr, thresholds = roc_curve(y_target, logreg.predict_proba(y_test)[:,1])\n",
    "\n",
    "\n",
    "plt.figure(figsize=(8, 6))\n",
    "plt.plot(fpr, tpr, label='Logistic Regression (area = %0.2f)' % logit_roc_auc)\n",
    "plt.plot([0, 1], [0, 1],'r--')\n",
    "plt.xlim([0.0, 1.0])\n",
    "plt.ylim([0.0, 1.05])\n",
    "plt.xlabel('False Positive Rate\\n')\n",
    "plt.ylabel('True Positive Rate')\n",
    "plt.title('Receiver operating characteristic')\n",
    "plt.legend(loc=\"lower right\")\n",
    "plt.savefig('Log_ROC')\n",
    "plt.show()\n",
    "#print(thresholds)"
   ]
  },
  {
   "cell_type": "markdown",
   "metadata": {},
   "source": [
    "### L1 regularization"
   ]
  },
  {
   "cell_type": "code",
   "execution_count": 17,
   "metadata": {},
   "outputs": [
    {
     "name": "stderr",
     "output_type": "stream",
     "text": [
      "/anaconda3/lib/python3.7/site-packages/sklearn/svm/base.py:929: ConvergenceWarning: Liblinear failed to converge, increase the number of iterations.\n",
      "  \"the number of iterations.\", ConvergenceWarning)\n"
     ]
    },
    {
     "name": "stdout",
     "output_type": "stream",
     "text": [
      "C: 10\n",
      "Training accuracy: 0.9114719271623672\n",
      "Test accuracy: 0.9112648701141054\n"
     ]
    },
    {
     "name": "stderr",
     "output_type": "stream",
     "text": [
      "/anaconda3/lib/python3.7/site-packages/sklearn/svm/base.py:929: ConvergenceWarning: Liblinear failed to converge, increase the number of iterations.\n",
      "  \"the number of iterations.\", ConvergenceWarning)\n"
     ]
    },
    {
     "name": "stdout",
     "output_type": "stream",
     "text": [
      "C: 1\n",
      "Training accuracy: 0.9114415781487102\n",
      "Test accuracy: 0.9110220927409566\n"
     ]
    },
    {
     "name": "stderr",
     "output_type": "stream",
     "text": [
      "/anaconda3/lib/python3.7/site-packages/sklearn/svm/base.py:929: ConvergenceWarning: Liblinear failed to converge, increase the number of iterations.\n",
      "  \"the number of iterations.\", ConvergenceWarning)\n"
     ]
    },
    {
     "name": "stdout",
     "output_type": "stream",
     "text": [
      "C: 0.1\n",
      "Training accuracy: 0.9112594840667678\n",
      "Test accuracy: 0.9106579266812334\n",
      "C: 0.001\n",
      "Training accuracy: 0.9069499241274659\n",
      "Test accuracy: 0.906409322651129\n"
     ]
    },
    {
     "name": "stderr",
     "output_type": "stream",
     "text": [
      "/anaconda3/lib/python3.7/site-packages/sklearn/svm/base.py:929: ConvergenceWarning: Liblinear failed to converge, increase the number of iterations.\n",
      "  \"the number of iterations.\", ConvergenceWarning)\n"
     ]
    }
   ],
   "source": [
    "C = [10, 1, .1, .001]\n",
    "\n",
    "for c in C:\n",
    "    logregL1=LogisticRegression(penalty='l1', C=c, solver='liblinear')\n",
    "    logregL1.fit(x_train, x_target)\n",
    "    preds_test = logregL1.predict(x_train)\n",
    "    print('C:', c)\n",
    "    #print('Coefficient of each feature:', logregL1.coef_)\n",
    "    print('Training accuracy:', logregL1.score(x_train, x_target))\n",
    "    print('Test accuracy:', logregL1.score(y_test, y_target))\n",
    "    #preds_test.shape\n",
    "    #print(logreg.score(preds_test, y))\n",
    "    #logregL1.score(x, y)"
   ]
  },
  {
   "cell_type": "code",
   "execution_count": 18,
   "metadata": {},
   "outputs": [
    {
     "name": "stdout",
     "output_type": "stream",
     "text": [
      "C: 10\n",
      "Coefficient of each feature: [[ 1.15458973e-03  4.62959306e-03 -5.55156863e-02 -1.08829583e-03\n",
      "   5.33099282e-02 -1.82957483e-01  1.43076315e-01  1.95747033e-02\n",
      "  -3.54676496e-01 -2.83966273e-03  8.17236455e-02 -1.54155133e-01\n",
      "  -6.89291359e-02  0.00000000e+00  5.26198804e-04  3.28497121e-01\n",
      "  -2.07494054e-01 -3.71347082e-02  3.05647421e-01  1.33395343e-01\n",
      "   1.50182033e-01 -1.19366202e-01  2.70869244e-02  0.00000000e+00\n",
      "   5.14946150e-02 -3.81910088e-02  0.00000000e+00  8.95559823e-02\n",
      "  -2.52467591e-02 -2.82087919e-02  6.60820616e-01 -4.65158426e-03\n",
      "   1.70945944e-01  3.84327849e-02  3.03259236e-01  0.00000000e+00\n",
      "   0.00000000e+00  3.63299635e-03  0.00000000e+00 -1.54785769e-02\n",
      "   2.69462204e-04  0.00000000e+00 -3.53606722e-02  2.57216406e-01\n",
      "  -7.44611710e-05 -1.84980838e-01  1.26373076e-01  0.00000000e+00\n",
      "   2.55633081e-01  3.10448465e-01  1.36976416e+00 -9.00717887e-01\n",
      "  -2.36395162e-01  3.13662932e-01 -2.99382605e-02 -7.94999058e-02\n",
      "  -1.66889121e-01  0.00000000e+00  5.29248254e-02  7.99814621e-02\n",
      "  -5.30353125e-01 -9.64118472e-05  3.34335117e-01]]\n",
      "\n",
      "-------------------------------------------------------------------------\n",
      "\n",
      "Training accuracy: 0.9105918057663126\n",
      "              precision    recall  f1-score   support\n",
      "\n",
      "           0       0.97      0.93      0.95     30681\n",
      "           1       0.41      0.67      0.51      2269\n",
      "\n",
      "    accuracy                           0.91     32950\n",
      "   macro avg       0.69      0.80      0.73     32950\n",
      "weighted avg       0.94      0.91      0.92     32950\n",
      "\n",
      "Predict Training Data with Actual Training Data: \n",
      " [[28490  2191]\n",
      " [  755  1514]]\n",
      "\n",
      "-------------------------------------------------------------------------\n",
      "\n",
      "Test accuracy: 0.9112648701141054\n",
      "              precision    recall  f1-score   support\n",
      "\n",
      "           0       0.97      0.93      0.95      7642\n",
      "           1       0.43      0.67      0.52       596\n",
      "\n",
      "    accuracy                           0.91      8238\n",
      "   macro avg       0.70      0.80      0.74      8238\n",
      "weighted avg       0.93      0.91      0.92      8238\n",
      "\n",
      "Predict Testing Data with Actual Testing Data: \n",
      " [[7107  535]\n",
      " [ 196  400]]\n"
     ]
    },
    {
     "name": "stderr",
     "output_type": "stream",
     "text": [
      "/anaconda3/lib/python3.7/site-packages/sklearn/svm/base.py:929: ConvergenceWarning: Liblinear failed to converge, increase the number of iterations.\n",
      "  \"the number of iterations.\", ConvergenceWarning)\n"
     ]
    }
   ],
   "source": [
    "logregL1=LogisticRegression(penalty='l1', C=10, solver='liblinear')\n",
    "logregL1.fit(x_train, x_target)\n",
    "logregL1_preds_train = logregL1.predict(x_train)\n",
    "print('C:', \"10\")\n",
    "print('Coefficient of each feature:', logregL1.coef_)\n",
    "print('\\n-------------------------------------------------------------------------\\n')\n",
    "print('Training accuracy:', logregL1.score(x_train, x_target))\n",
    "\n",
    "    #preds_test.shape\n",
    "    #print(logreg.score(preds_test, y))\n",
    "    #logregL1.score(x, y)\n",
    "\n",
    "print(classification_report(logregL1_preds_train, x_target))\n",
    "logreglogregL1traincm = confusion_matrix(logregL1_preds_train, x_target)\n",
    "\n",
    "print(\"Predict Training Data with Actual Training Data: \\n\", logreglogregL1traincm)\n",
    "print('\\n-------------------------------------------------------------------------\\n')\n",
    "\n",
    "print('Test accuracy:', logregL1.score(y_test, y_target))\n",
    "# predict test data\n",
    "logregL1preds_test = logregL1.predict(y_test)\n",
    "#preds_test.shape\n",
    "print(classification_report(logregL1preds_test, y_target))\n",
    "logregL1testcm = confusion_matrix(logregL1preds_test, y_target)\n",
    "print(\"Predict Testing Data with Actual Testing Data: \\n\" ,logregL1testcm)"
   ]
  },
  {
   "cell_type": "code",
   "execution_count": 19,
   "metadata": {},
   "outputs": [
    {
     "data": {
      "image/png": "[encoded data removed]",
      "text/plain": [
       "<Figure size 576x432 with 2 Axes>"
      ]
     },
     "metadata": {
      "needs_background": "light"
     },
     "output_type": "display_data"
    }
   ],
   "source": [
    "plot_confusion_matrix(cm = logregL1testcm, \n",
    "                      normalize    = False,\n",
    "                      target_names =  ['No', 'Yes'],\n",
    "                      title        = \"Testing Data with Logistic Regression(L1) Confusion Matrix\")"
   ]
  },
  {
   "cell_type": "code",
   "execution_count": 20,
   "metadata": {},
   "outputs": [
    {
     "data": {
      "image/png": "[encoded data removed]",
      "text/plain": [
       "<Figure size 576x432 with 1 Axes>"
      ]
     },
     "metadata": {
      "needs_background": "light"
     },
     "output_type": "display_data"
    }
   ],
   "source": [
    "from sklearn.metrics import roc_auc_score\n",
    "from sklearn.metrics import roc_curve\n",
    "\n",
    "logit_roc_auc = roc_auc_score(y_target, logregL1.predict(y_test))\n",
    "fpr, tpr, thresholds = roc_curve(y_target, logregL1.predict_proba(y_test)[:,1])\n",
    "\n",
    "\n",
    "plt.figure(figsize=(8, 6))\n",
    "plt.plot(fpr, tpr, label='Logistic Regression (area = %0.2f)' % logit_roc_auc)\n",
    "plt.plot([0, 1], [0, 1],'r--')\n",
    "plt.xlim([0.0, 1.0])\n",
    "plt.ylim([0.0, 1.05])\n",
    "plt.xlabel('False Positive Rate')\n",
    "plt.ylabel('True Positive Rate')\n",
    "plt.title('Receiver operating characteristic')\n",
    "plt.legend(loc=\"lower right\")\n",
    "plt.savefig('Log_ROC')\n",
    "plt.show()"
   ]
  },
  {
   "cell_type": "markdown",
   "metadata": {},
   "source": [
    "### L2 regularization"
   ]
  },
  {
   "cell_type": "code",
   "execution_count": 21,
   "metadata": {},
   "outputs": [
    {
     "name": "stderr",
     "output_type": "stream",
     "text": [
      "/anaconda3/lib/python3.7/site-packages/sklearn/linear_model/logistic.py:947: ConvergenceWarning: lbfgs failed to converge. Increase the number of iterations.\n",
      "  \"of iterations.\", ConvergenceWarning)\n"
     ]
    },
    {
     "name": "stdout",
     "output_type": "stream",
     "text": [
      "C: 10\n",
      "Coefficient of each feature: [[ 1.04457453e-03  4.57360194e-03  2.68427498e-02 -1.59270283e-03\n",
      "  -8.41902972e-02 -1.91378892e-01  4.23277205e-01  2.68981948e-02\n",
      "  -2.17781833e-01 -7.85508994e-03  5.85265422e-02 -1.16021898e-01\n",
      "  -8.38415157e-03 -2.97031707e-03  2.08548192e-03  3.91280013e-02\n",
      "  -8.07982232e-03 -3.26699385e-02  2.90440865e-02  3.66196382e-02\n",
      "   8.27901112e-03 -1.96256597e-03  1.90822591e-04 -6.61777482e-02\n",
      "   7.04027254e-02 -8.21731927e-04 -2.08209974e-02 -1.79481813e-02\n",
      "  -5.75248922e-02 -3.35071672e-02  5.35960702e-04  9.02964371e-03\n",
      "   1.19866449e-01  3.96325263e-03  9.68538586e-02 -9.32185071e-02\n",
      "  -4.12837436e-05 -2.01576370e-03  7.53542363e-04  4.85628917e-03\n",
      "   1.01842035e-02  7.53542363e-04 -7.34367804e-03  1.30268641e-01\n",
      "  -1.26674573e-01  2.36038866e-02  5.01555140e-02  1.86014122e-03\n",
      "   8.66721967e-02  7.20966882e-02  9.69644283e-02 -3.38706564e-01\n",
      "  -2.15721341e-02  2.85148313e-02  4.00507996e-03 -2.42041231e-02\n",
      "  -3.39488716e-02  1.26553324e-02  3.06177634e-02  1.84739668e-02\n",
      "  -9.94024377e-02  8.79502585e-02  1.50462471e-02]]\n",
      "Training accuracy: 0.9101972685887708\n",
      "Test accuracy: 0.9100509832483612\n",
      "\n"
     ]
    },
    {
     "name": "stderr",
     "output_type": "stream",
     "text": [
      "/anaconda3/lib/python3.7/site-packages/sklearn/linear_model/logistic.py:947: ConvergenceWarning: lbfgs failed to converge. Increase the number of iterations.\n",
      "  \"of iterations.\", ConvergenceWarning)\n"
     ]
    },
    {
     "name": "stdout",
     "output_type": "stream",
     "text": [
      "C: 1\n",
      "Coefficient of each feature: [[-1.07164596e-02  4.31844278e-03 -3.73808271e-02 -1.50406463e-03\n",
      "  -2.74130532e-02 -2.55987394e-01  3.18795735e-01  3.68131479e-02\n",
      "  -2.78542355e-01 -5.72352693e-03  3.47038003e-02 -6.68093417e-02\n",
      "  -5.00458878e-03 -2.10521897e-03  9.88812141e-04  2.32871564e-02\n",
      "  -4.47885227e-03 -1.84566037e-02  1.87282502e-02  1.87267640e-02\n",
      "   4.82637521e-03 -1.08432288e-03 -1.16625364e-03 -4.04613534e-02\n",
      "   4.53864545e-02 -4.36617565e-04 -1.26663335e-02 -1.06019161e-02\n",
      "  -3.28841821e-02 -1.69821115e-02  2.86216167e-04  4.62604069e-03\n",
      "   6.88472850e-02  2.69723125e-03  6.27239941e-02 -5.93766087e-02\n",
      "  -2.51554779e-05 -2.96333267e-03  5.88698826e-04  5.69686375e-03\n",
      "   7.09822913e-03  5.88698826e-04 -4.36469805e-03  8.72350044e-02\n",
      "  -8.39127745e-02  1.83423603e-02  2.50112149e-02  2.29019016e-03\n",
      "   3.64453834e-02  3.53152244e-02  5.36654391e-02 -1.81903240e-01\n",
      "  -1.21656722e-02  2.00719944e-02  6.24933519e-03 -1.20739207e-02\n",
      "  -1.82954411e-02  7.86683267e-03  1.66363569e-02  9.18840220e-03\n",
      "  -4.15070113e-02  3.56350773e-02  9.19416388e-03]]\n",
      "Training accuracy: 0.9084977238239758\n",
      "Test accuracy: 0.9094440398154892\n",
      "\n"
     ]
    },
    {
     "name": "stderr",
     "output_type": "stream",
     "text": [
      "/anaconda3/lib/python3.7/site-packages/sklearn/linear_model/logistic.py:947: ConvergenceWarning: lbfgs failed to converge. Increase the number of iterations.\n",
      "  \"of iterations.\", ConvergenceWarning)\n"
     ]
    },
    {
     "name": "stdout",
     "output_type": "stream",
     "text": [
      "C: 0.1\n",
      "Coefficient of each feature: [[ 2.36734704e-03  4.51070182e-03 -7.55566024e-02 -1.63524169e-03\n",
      "   1.68379522e-02 -2.56107287e-01  1.90188588e-01  4.76684583e-02\n",
      "  -2.71562309e-01 -3.36347941e-03  1.20083386e-02 -2.09812001e-02\n",
      "  -1.77531932e-03 -1.10249502e-03  8.43274749e-05  8.39264475e-03\n",
      "  -1.18443791e-03 -5.39922805e-03  8.24706840e-03  2.95515245e-03\n",
      "   1.58043095e-03 -2.73540263e-04 -1.82513154e-03 -1.52738583e-02\n",
      "   1.97418673e-02 -9.11354330e-05 -4.63757245e-03 -3.65368850e-03\n",
      "  -1.00508555e-02 -2.60952593e-03  6.33632978e-05  7.41385101e-04\n",
      "   2.13144488e-02  1.38418720e-03  2.79009399e-02 -2.53396869e-02\n",
      "  -9.51097335e-06 -3.07598036e-03  3.72395492e-04  5.25532689e-03\n",
      "   3.71838236e-03  3.72395492e-04 -1.53903583e-03  4.18411617e-02\n",
      "  -3.92894197e-02  1.13038975e-02  3.36047443e-03  2.21312568e-03\n",
      "  -4.91792016e-03  3.51566616e-03  1.41366131e-02 -4.11705957e-02\n",
      "  -3.44343664e-03  1.07680657e-02  6.78585195e-03 -1.51692396e-03\n",
      "  -4.20561143e-03  3.11410676e-03  4.04265502e-03  1.11751563e-03\n",
      "   5.98891155e-03 -6.95061861e-03  3.51344909e-03]]\n",
      "Training accuracy: 0.9084370257966616\n",
      "Test accuracy: 0.9098082058752124\n",
      "\n",
      "C: 0.001\n",
      "Coefficient of each feature: [[ 3.55401176e-03  4.15661607e-03 -6.32748995e-02 -1.46817812e-03\n",
      "   9.65432439e-03 -2.36561464e-01  1.93885574e-01  4.04884046e-02\n",
      "  -2.52104022e-01 -3.51246304e-03  1.41701967e-02 -2.56270431e-02\n",
      "  -2.08182357e-03 -1.14696454e-03  1.84342629e-04  9.81531001e-03\n",
      "  -1.54014766e-03 -6.77444820e-03  9.06469980e-03  4.85519943e-03\n",
      "   1.90520893e-03 -3.58362737e-04 -1.57705870e-03 -1.75544646e-02\n",
      "   2.17276255e-02 -1.29934472e-04 -5.34131227e-03 -4.32192439e-03\n",
      "  -1.24058467e-02 -4.36433483e-03  8.85011643e-05  1.21008540e-03\n",
      "   2.61242489e-02  1.47675053e-03  3.04759535e-02 -2.79988309e-02\n",
      "  -1.09548237e-05 -2.81982853e-03  3.71938466e-04  4.91405780e-03\n",
      "   3.89617597e-03  3.71938466e-04 -1.80194670e-03  4.49458669e-02\n",
      "  -4.24796991e-02  1.14158851e-02  5.98377512e-03  2.05726615e-03\n",
      "   1.32460830e-03  7.71756043e-03  1.84362694e-02 -5.74840566e-02\n",
      "  -4.45101888e-03  1.12535739e-02  6.21230479e-03 -2.84363182e-03\n",
      "  -5.77129228e-03  3.54286835e-03  5.44766299e-03  2.09056049e-03\n",
      "  -8.85474733e-04 -6.71405020e-04  4.02304749e-03]]\n",
      "Training accuracy: 0.9087708649468892\n",
      "Test accuracy: 0.9106579266812334\n",
      "\n"
     ]
    },
    {
     "name": "stderr",
     "output_type": "stream",
     "text": [
      "/anaconda3/lib/python3.7/site-packages/sklearn/linear_model/logistic.py:947: ConvergenceWarning: lbfgs failed to converge. Increase the number of iterations.\n",
      "  \"of iterations.\", ConvergenceWarning)\n"
     ]
    }
   ],
   "source": [
    "C = [10, 1, .1, .001]\n",
    "\n",
    "for c in C:\n",
    "    logregL2=LogisticRegression(penalty='l2', C=c, solver='lbfgs')\n",
    "    logregL2.fit(x_train, x_target)\n",
    "    preds_test = logregL2.predict(x_train)\n",
    "    print('C:', c)\n",
    "    print('Coefficient of each feature:', logregL2.coef_)\n",
    "    print('Training accuracy:', logregL2.score(x_train, x_target))\n",
    "    print('Test accuracy:', logregL2.score(y_test, y_target))\n",
    "    print('')\n",
    "    #preds_test.shape\n",
    "    #print(logreg.score(preds_test, y))\n",
    "    #logregL1.score(x, y)"
   ]
  },
  {
   "cell_type": "code",
   "execution_count": 22,
   "metadata": {},
   "outputs": [],
   "source": [
    "from sklearn.model_selection import KFold\n",
    "def calc_params(X, y, clf, param_values, param_name, K):\n",
    "    \n",
    "    # Convert input to Numpy arrays\n",
    "    X = np.array(X)\n",
    "    y = np.array(y)\n",
    "\n",
    "    # initialize training and testing score arrays with zeros\n",
    "    train_scores = np.zeros(len(param_values))\n",
    "    test_scores = np.zeros(len(param_values))\n",
    "    \n",
    "    # iterate over the different parameter values\n",
    "    for i, param_value in enumerate(param_values):\n",
    "\n",
    "        # set classifier parameters\n",
    "        clf.set_params(**{param_name:param_value})\n",
    "        \n",
    "        # initialize the K scores obtained for each fold\n",
    "        k_train_scores = np.zeros(K)\n",
    "        k_test_scores = np.zeros(K)\n",
    "        \n",
    "        # create KFold cross validation\n",
    "        cv = KFold(n_splits=K, shuffle=True, random_state=0)\n",
    "        \n",
    "        # iterate over the K folds\n",
    "        j = 0\n",
    "        for train, test in cv.split(X):\n",
    "            # fit the classifier in the corresponding fold\n",
    "            # and obtain the corresponding accuracy scores on train and test sets\n",
    "            clf.fit(X[train], y[train])\n",
    "            k_train_scores[j] = clf.score(X[train], y[train])\n",
    "            k_test_scores[j] = clf.score(X[test], y[test])\n",
    "            j += 1\n",
    "            \n",
    "        # store the mean of the K fold scores\n",
    "        train_scores[i] = np.mean(k_train_scores)\n",
    "        test_scores[i] = np.mean(k_test_scores)\n",
    "        print(param_name, '=', param_value, \"Train =\", train_scores[i], \"Test =\", test_scores[i])\n",
    "       \n",
    "    # plot the training and testing scores in a log scale\n",
    "    plt.plot(param_values, train_scores, label='Train', alpha=0.4, lw=2, c='b')\n",
    "    plt.plot(param_values, test_scores, label='X-Val', alpha=0.4, lw=2, c='g')\n",
    "    #plt.legend(loc=7)\n",
    "    plt.xlabel(param_name + \" values\")\n",
    "    plt.ylabel(\"Mean cross validation accuracy\")\n",
    "\n",
    "    # return the training and testing scores on each parameter value\n",
    "    return train_scores, test_scores"
   ]
  },
  {
   "cell_type": "code",
   "execution_count": 23,
   "metadata": {},
   "outputs": [
    {
     "name": "stderr",
     "output_type": "stream",
     "text": [
      "/anaconda3/lib/python3.7/site-packages/sklearn/linear_model/logistic.py:947: ConvergenceWarning: lbfgs failed to converge. Increase the number of iterations.\n",
      "  \"of iterations.\", ConvergenceWarning)\n",
      "/anaconda3/lib/python3.7/site-packages/sklearn/linear_model/logistic.py:947: ConvergenceWarning: lbfgs failed to converge. Increase the number of iterations.\n",
      "  \"of iterations.\", ConvergenceWarning)\n",
      "/anaconda3/lib/python3.7/site-packages/sklearn/linear_model/logistic.py:947: ConvergenceWarning: lbfgs failed to converge. Increase the number of iterations.\n",
      "  \"of iterations.\", ConvergenceWarning)\n",
      "/anaconda3/lib/python3.7/site-packages/sklearn/linear_model/logistic.py:947: ConvergenceWarning: lbfgs failed to converge. Increase the number of iterations.\n",
      "  \"of iterations.\", ConvergenceWarning)\n",
      "/anaconda3/lib/python3.7/site-packages/sklearn/linear_model/logistic.py:947: ConvergenceWarning: lbfgs failed to converge. Increase the number of iterations.\n",
      "  \"of iterations.\", ConvergenceWarning)\n"
     ]
    },
    {
     "name": "stdout",
     "output_type": "stream",
     "text": [
      "C = 0.001 Train = 0.9089605462822459 Test = 0.9090136570561457\n"
     ]
    },
    {
     "name": "stderr",
     "output_type": "stream",
     "text": [
      "/anaconda3/lib/python3.7/site-packages/sklearn/linear_model/logistic.py:947: ConvergenceWarning: lbfgs failed to converge. Increase the number of iterations.\n",
      "  \"of iterations.\", ConvergenceWarning)\n",
      "/anaconda3/lib/python3.7/site-packages/sklearn/linear_model/logistic.py:947: ConvergenceWarning: lbfgs failed to converge. Increase the number of iterations.\n",
      "  \"of iterations.\", ConvergenceWarning)\n",
      "/anaconda3/lib/python3.7/site-packages/sklearn/linear_model/logistic.py:947: ConvergenceWarning: lbfgs failed to converge. Increase the number of iterations.\n",
      "  \"of iterations.\", ConvergenceWarning)\n",
      "/anaconda3/lib/python3.7/site-packages/sklearn/linear_model/logistic.py:947: ConvergenceWarning: lbfgs failed to converge. Increase the number of iterations.\n",
      "  \"of iterations.\", ConvergenceWarning)\n",
      "/anaconda3/lib/python3.7/site-packages/sklearn/linear_model/logistic.py:947: ConvergenceWarning: lbfgs failed to converge. Increase the number of iterations.\n",
      "  \"of iterations.\", ConvergenceWarning)\n"
     ]
    },
    {
     "name": "stdout",
     "output_type": "stream",
     "text": [
      "C = 1.1119999999999999 Train = 0.909104704097117 Test = 0.9089529590288317\n"
     ]
    },
    {
     "name": "stderr",
     "output_type": "stream",
     "text": [
      "/anaconda3/lib/python3.7/site-packages/sklearn/linear_model/logistic.py:947: ConvergenceWarning: lbfgs failed to converge. Increase the number of iterations.\n",
      "  \"of iterations.\", ConvergenceWarning)\n",
      "/anaconda3/lib/python3.7/site-packages/sklearn/linear_model/logistic.py:947: ConvergenceWarning: lbfgs failed to converge. Increase the number of iterations.\n",
      "  \"of iterations.\", ConvergenceWarning)\n",
      "/anaconda3/lib/python3.7/site-packages/sklearn/linear_model/logistic.py:947: ConvergenceWarning: lbfgs failed to converge. Increase the number of iterations.\n",
      "  \"of iterations.\", ConvergenceWarning)\n",
      "/anaconda3/lib/python3.7/site-packages/sklearn/linear_model/logistic.py:947: ConvergenceWarning: lbfgs failed to converge. Increase the number of iterations.\n",
      "  \"of iterations.\", ConvergenceWarning)\n",
      "/anaconda3/lib/python3.7/site-packages/sklearn/linear_model/logistic.py:947: ConvergenceWarning: lbfgs failed to converge. Increase the number of iterations.\n",
      "  \"of iterations.\", ConvergenceWarning)\n"
     ]
    },
    {
     "name": "stdout",
     "output_type": "stream",
     "text": [
      "C = 2.223 Train = 0.9090212443095599 Test = 0.9089833080424887\n"
     ]
    },
    {
     "name": "stderr",
     "output_type": "stream",
     "text": [
      "/anaconda3/lib/python3.7/site-packages/sklearn/linear_model/logistic.py:947: ConvergenceWarning: lbfgs failed to converge. Increase the number of iterations.\n",
      "  \"of iterations.\", ConvergenceWarning)\n",
      "/anaconda3/lib/python3.7/site-packages/sklearn/linear_model/logistic.py:947: ConvergenceWarning: lbfgs failed to converge. Increase the number of iterations.\n",
      "  \"of iterations.\", ConvergenceWarning)\n",
      "/anaconda3/lib/python3.7/site-packages/sklearn/linear_model/logistic.py:947: ConvergenceWarning: lbfgs failed to converge. Increase the number of iterations.\n",
      "  \"of iterations.\", ConvergenceWarning)\n",
      "/anaconda3/lib/python3.7/site-packages/sklearn/linear_model/logistic.py:947: ConvergenceWarning: lbfgs failed to converge. Increase the number of iterations.\n",
      "  \"of iterations.\", ConvergenceWarning)\n",
      "/anaconda3/lib/python3.7/site-packages/sklearn/linear_model/logistic.py:947: ConvergenceWarning: lbfgs failed to converge. Increase the number of iterations.\n",
      "  \"of iterations.\", ConvergenceWarning)\n"
     ]
    },
    {
     "name": "stdout",
     "output_type": "stream",
     "text": [
      "C = 3.334 Train = 0.9086646433990895 Test = 0.9084066767830045\n"
     ]
    },
    {
     "name": "stderr",
     "output_type": "stream",
     "text": [
      "/anaconda3/lib/python3.7/site-packages/sklearn/linear_model/logistic.py:947: ConvergenceWarning: lbfgs failed to converge. Increase the number of iterations.\n",
      "  \"of iterations.\", ConvergenceWarning)\n",
      "/anaconda3/lib/python3.7/site-packages/sklearn/linear_model/logistic.py:947: ConvergenceWarning: lbfgs failed to converge. Increase the number of iterations.\n",
      "  \"of iterations.\", ConvergenceWarning)\n",
      "/anaconda3/lib/python3.7/site-packages/sklearn/linear_model/logistic.py:947: ConvergenceWarning: lbfgs failed to converge. Increase the number of iterations.\n",
      "  \"of iterations.\", ConvergenceWarning)\n",
      "/anaconda3/lib/python3.7/site-packages/sklearn/linear_model/logistic.py:947: ConvergenceWarning: lbfgs failed to converge. Increase the number of iterations.\n",
      "  \"of iterations.\", ConvergenceWarning)\n",
      "/anaconda3/lib/python3.7/site-packages/sklearn/linear_model/logistic.py:947: ConvergenceWarning: lbfgs failed to converge. Increase the number of iterations.\n",
      "  \"of iterations.\", ConvergenceWarning)\n"
     ]
    },
    {
     "name": "stdout",
     "output_type": "stream",
     "text": [
      "C = 4.445 Train = 0.9093550834597875 Test = 0.9093171471927162\n"
     ]
    },
    {
     "name": "stderr",
     "output_type": "stream",
     "text": [
      "/anaconda3/lib/python3.7/site-packages/sklearn/linear_model/logistic.py:947: ConvergenceWarning: lbfgs failed to converge. Increase the number of iterations.\n",
      "  \"of iterations.\", ConvergenceWarning)\n",
      "/anaconda3/lib/python3.7/site-packages/sklearn/linear_model/logistic.py:947: ConvergenceWarning: lbfgs failed to converge. Increase the number of iterations.\n",
      "  \"of iterations.\", ConvergenceWarning)\n",
      "/anaconda3/lib/python3.7/site-packages/sklearn/linear_model/logistic.py:947: ConvergenceWarning: lbfgs failed to converge. Increase the number of iterations.\n",
      "  \"of iterations.\", ConvergenceWarning)\n",
      "/anaconda3/lib/python3.7/site-packages/sklearn/linear_model/logistic.py:947: ConvergenceWarning: lbfgs failed to converge. Increase the number of iterations.\n",
      "  \"of iterations.\", ConvergenceWarning)\n",
      "/anaconda3/lib/python3.7/site-packages/sklearn/linear_model/logistic.py:947: ConvergenceWarning: lbfgs failed to converge. Increase the number of iterations.\n",
      "  \"of iterations.\", ConvergenceWarning)\n"
     ]
    },
    {
     "name": "stdout",
     "output_type": "stream",
     "text": [
      "C = 5.556 Train = 0.9096889226100153 Test = 0.9093171471927162\n"
     ]
    },
    {
     "name": "stderr",
     "output_type": "stream",
     "text": [
      "/anaconda3/lib/python3.7/site-packages/sklearn/linear_model/logistic.py:947: ConvergenceWarning: lbfgs failed to converge. Increase the number of iterations.\n",
      "  \"of iterations.\", ConvergenceWarning)\n",
      "/anaconda3/lib/python3.7/site-packages/sklearn/linear_model/logistic.py:947: ConvergenceWarning: lbfgs failed to converge. Increase the number of iterations.\n",
      "  \"of iterations.\", ConvergenceWarning)\n",
      "/anaconda3/lib/python3.7/site-packages/sklearn/linear_model/logistic.py:947: ConvergenceWarning: lbfgs failed to converge. Increase the number of iterations.\n",
      "  \"of iterations.\", ConvergenceWarning)\n",
      "/anaconda3/lib/python3.7/site-packages/sklearn/linear_model/logistic.py:947: ConvergenceWarning: lbfgs failed to converge. Increase the number of iterations.\n",
      "  \"of iterations.\", ConvergenceWarning)\n",
      "/anaconda3/lib/python3.7/site-packages/sklearn/linear_model/logistic.py:947: ConvergenceWarning: lbfgs failed to converge. Increase the number of iterations.\n",
      "  \"of iterations.\", ConvergenceWarning)\n"
     ]
    },
    {
     "name": "stdout",
     "output_type": "stream",
     "text": [
      "C = 6.667000000000001 Train = 0.9100075872534141 Test = 0.910227617602428\n"
     ]
    },
    {
     "name": "stderr",
     "output_type": "stream",
     "text": [
      "/anaconda3/lib/python3.7/site-packages/sklearn/linear_model/logistic.py:947: ConvergenceWarning: lbfgs failed to converge. Increase the number of iterations.\n",
      "  \"of iterations.\", ConvergenceWarning)\n",
      "/anaconda3/lib/python3.7/site-packages/sklearn/linear_model/logistic.py:947: ConvergenceWarning: lbfgs failed to converge. Increase the number of iterations.\n",
      "  \"of iterations.\", ConvergenceWarning)\n",
      "/anaconda3/lib/python3.7/site-packages/sklearn/linear_model/logistic.py:947: ConvergenceWarning: lbfgs failed to converge. Increase the number of iterations.\n",
      "  \"of iterations.\", ConvergenceWarning)\n",
      "/anaconda3/lib/python3.7/site-packages/sklearn/linear_model/logistic.py:947: ConvergenceWarning: lbfgs failed to converge. Increase the number of iterations.\n",
      "  \"of iterations.\", ConvergenceWarning)\n",
      "/anaconda3/lib/python3.7/site-packages/sklearn/linear_model/logistic.py:947: ConvergenceWarning: lbfgs failed to converge. Increase the number of iterations.\n",
      "  \"of iterations.\", ConvergenceWarning)\n"
     ]
    },
    {
     "name": "stdout",
     "output_type": "stream",
     "text": [
      "C = 7.7780000000000005 Train = 0.9099241274658574 Test = 0.9101062215477999\n"
     ]
    },
    {
     "name": "stderr",
     "output_type": "stream",
     "text": [
      "/anaconda3/lib/python3.7/site-packages/sklearn/linear_model/logistic.py:947: ConvergenceWarning: lbfgs failed to converge. Increase the number of iterations.\n",
      "  \"of iterations.\", ConvergenceWarning)\n",
      "/anaconda3/lib/python3.7/site-packages/sklearn/linear_model/logistic.py:947: ConvergenceWarning: lbfgs failed to converge. Increase the number of iterations.\n",
      "  \"of iterations.\", ConvergenceWarning)\n",
      "/anaconda3/lib/python3.7/site-packages/sklearn/linear_model/logistic.py:947: ConvergenceWarning: lbfgs failed to converge. Increase the number of iterations.\n",
      "  \"of iterations.\", ConvergenceWarning)\n",
      "/anaconda3/lib/python3.7/site-packages/sklearn/linear_model/logistic.py:947: ConvergenceWarning: lbfgs failed to converge. Increase the number of iterations.\n",
      "  \"of iterations.\", ConvergenceWarning)\n",
      "/anaconda3/lib/python3.7/site-packages/sklearn/linear_model/logistic.py:947: ConvergenceWarning: lbfgs failed to converge. Increase the number of iterations.\n",
      "  \"of iterations.\", ConvergenceWarning)\n"
     ]
    },
    {
     "name": "stdout",
     "output_type": "stream",
     "text": [
      "C = 8.889 Train = 0.9098027314112291 Test = 0.909104704097117\n"
     ]
    },
    {
     "name": "stderr",
     "output_type": "stream",
     "text": [
      "/anaconda3/lib/python3.7/site-packages/sklearn/linear_model/logistic.py:947: ConvergenceWarning: lbfgs failed to converge. Increase the number of iterations.\n",
      "  \"of iterations.\", ConvergenceWarning)\n",
      "/anaconda3/lib/python3.7/site-packages/sklearn/linear_model/logistic.py:947: ConvergenceWarning: lbfgs failed to converge. Increase the number of iterations.\n",
      "  \"of iterations.\", ConvergenceWarning)\n",
      "/anaconda3/lib/python3.7/site-packages/sklearn/linear_model/logistic.py:947: ConvergenceWarning: lbfgs failed to converge. Increase the number of iterations.\n",
      "  \"of iterations.\", ConvergenceWarning)\n",
      "/anaconda3/lib/python3.7/site-packages/sklearn/linear_model/logistic.py:947: ConvergenceWarning: lbfgs failed to converge. Increase the number of iterations.\n",
      "  \"of iterations.\", ConvergenceWarning)\n"
     ]
    },
    {
     "name": "stdout",
     "output_type": "stream",
     "text": [
      "C = 10.0 Train = 0.9093247344461306 Test = 0.9089833080424887\n"
     ]
    },
    {
     "name": "stderr",
     "output_type": "stream",
     "text": [
      "/anaconda3/lib/python3.7/site-packages/sklearn/linear_model/logistic.py:947: ConvergenceWarning: lbfgs failed to converge. Increase the number of iterations.\n",
      "  \"of iterations.\", ConvergenceWarning)\n"
     ]
    },
    {
     "data": {
      "text/plain": [
       "(array([0.90896055, 0.9091047 , 0.90902124, 0.90866464, 0.90935508,\n",
       "        0.90968892, 0.91000759, 0.90992413, 0.90980273, 0.90932473]),\n",
       " array([0.90901366, 0.90895296, 0.90898331, 0.90840668, 0.90931715,\n",
       "        0.90931715, 0.91022762, 0.91010622, 0.9091047 , 0.90898331]))"
      ]
     },
     "execution_count": 23,
     "metadata": {},
     "output_type": "execute_result"
    },
    {
     "data": {
      "image/png": "[encoded data removed]",
      "text/plain": [
       "<Figure size 432x288 with 1 Axes>"
      ]
     },
     "metadata": {
      "needs_background": "light"
     },
     "output_type": "display_data"
    }
   ],
   "source": [
    "#C = [10, 1, .1, .001]\n",
    "C=np.linspace(0.001, 10.0, num=10)\n",
    "C\n",
    "logregL2=LogisticRegression(penalty='l2',solver='lbfgs')\n",
    "calc_params(x_train, x_target, logregL2, C, 'C', 5)"
   ]
  },
  {
   "cell_type": "code",
   "execution_count": 25,
   "metadata": {},
   "outputs": [
    {
     "name": "stdout",
     "output_type": "stream",
     "text": [
      "C: 7.778\n",
      "Training accuracy: 0.9099241274658574\n",
      "Test accuracy: 0.9094440398154892\n",
      "\n"
     ]
    },
    {
     "name": "stderr",
     "output_type": "stream",
     "text": [
      "/anaconda3/lib/python3.7/site-packages/sklearn/linear_model/logistic.py:947: ConvergenceWarning: lbfgs failed to converge. Increase the number of iterations.\n",
      "  \"of iterations.\", ConvergenceWarning)\n"
     ]
    }
   ],
   "source": [
    "logregL2=LogisticRegression(penalty='l2', C=7.7780, solver='lbfgs')\n",
    "logregL2.fit(x_train, x_target)\n",
    "preds_test = logregL2.predict(x_train)\n",
    "print('C:', 7.7780)\n",
    "#print('Coefficient of each feature:', logregL2.coef_)\n",
    "print('Training accuracy:', logregL2.score(x_train, x_target))\n",
    "print('Test accuracy:', logregL2.score(y_test, y_target))\n",
    "print('')"
   ]
  },
  {
   "cell_type": "markdown",
   "metadata": {},
   "source": [
    "### Elasticnet regularization"
   ]
  },
  {
   "cell_type": "code",
   "execution_count": 27,
   "metadata": {},
   "outputs": [
    {
     "name": "stderr",
     "output_type": "stream",
     "text": [
      "/anaconda3/lib/python3.7/site-packages/sklearn/linear_model/sag.py:337: ConvergenceWarning: The max_iter was reached which means the coef_ did not converge\n",
      "  \"the coef_ did not converge\", ConvergenceWarning)\n"
     ]
    },
    {
     "name": "stdout",
     "output_type": "stream",
     "text": [
      "C: 10\n",
      "l1_ratio 1\n",
      "Training accuracy: 0.9057056145675265\n",
      "Test accuracy: 0.9071376547705754\n",
      "\n"
     ]
    },
    {
     "name": "stderr",
     "output_type": "stream",
     "text": [
      "/anaconda3/lib/python3.7/site-packages/sklearn/linear_model/sag.py:337: ConvergenceWarning: The max_iter was reached which means the coef_ did not converge\n",
      "  \"the coef_ did not converge\", ConvergenceWarning)\n"
     ]
    },
    {
     "name": "stdout",
     "output_type": "stream",
     "text": [
      "C: 10\n",
      "l1_ratio 0.5\n",
      "Training accuracy: 0.9057056145675265\n",
      "Test accuracy: 0.9071376547705754\n",
      "\n"
     ]
    },
    {
     "name": "stderr",
     "output_type": "stream",
     "text": [
      "/anaconda3/lib/python3.7/site-packages/sklearn/linear_model/sag.py:337: ConvergenceWarning: The max_iter was reached which means the coef_ did not converge\n",
      "  \"the coef_ did not converge\", ConvergenceWarning)\n"
     ]
    },
    {
     "name": "stdout",
     "output_type": "stream",
     "text": [
      "C: 10\n",
      "l1_ratio 0.1\n",
      "Training accuracy: 0.9057056145675265\n",
      "Test accuracy: 0.9071376547705754\n",
      "\n"
     ]
    },
    {
     "name": "stderr",
     "output_type": "stream",
     "text": [
      "/anaconda3/lib/python3.7/site-packages/sklearn/linear_model/sag.py:337: ConvergenceWarning: The max_iter was reached which means the coef_ did not converge\n",
      "  \"the coef_ did not converge\", ConvergenceWarning)\n"
     ]
    },
    {
     "name": "stdout",
     "output_type": "stream",
     "text": [
      "C: 10\n",
      "l1_ratio 0.01\n",
      "Training accuracy: 0.9057056145675265\n",
      "Test accuracy: 0.9071376547705754\n",
      "\n"
     ]
    },
    {
     "name": "stderr",
     "output_type": "stream",
     "text": [
      "/anaconda3/lib/python3.7/site-packages/sklearn/linear_model/sag.py:337: ConvergenceWarning: The max_iter was reached which means the coef_ did not converge\n",
      "  \"the coef_ did not converge\", ConvergenceWarning)\n"
     ]
    },
    {
     "name": "stdout",
     "output_type": "stream",
     "text": [
      "C: 10\n",
      "l1_ratio 0.001\n",
      "Training accuracy: 0.9057056145675265\n",
      "Test accuracy: 0.9071376547705754\n",
      "\n"
     ]
    },
    {
     "name": "stderr",
     "output_type": "stream",
     "text": [
      "/anaconda3/lib/python3.7/site-packages/sklearn/linear_model/sag.py:337: ConvergenceWarning: The max_iter was reached which means the coef_ did not converge\n",
      "  \"the coef_ did not converge\", ConvergenceWarning)\n"
     ]
    },
    {
     "name": "stdout",
     "output_type": "stream",
     "text": [
      "C: 1\n",
      "l1_ratio 1\n",
      "Training accuracy: 0.9057056145675265\n",
      "Test accuracy: 0.9071376547705754\n",
      "\n"
     ]
    },
    {
     "name": "stderr",
     "output_type": "stream",
     "text": [
      "/anaconda3/lib/python3.7/site-packages/sklearn/linear_model/sag.py:337: ConvergenceWarning: The max_iter was reached which means the coef_ did not converge\n",
      "  \"the coef_ did not converge\", ConvergenceWarning)\n"
     ]
    },
    {
     "name": "stdout",
     "output_type": "stream",
     "text": [
      "C: 1\n",
      "l1_ratio 0.5\n",
      "Training accuracy: 0.9057056145675265\n",
      "Test accuracy: 0.9071376547705754\n",
      "\n"
     ]
    },
    {
     "name": "stderr",
     "output_type": "stream",
     "text": [
      "/anaconda3/lib/python3.7/site-packages/sklearn/linear_model/sag.py:337: ConvergenceWarning: The max_iter was reached which means the coef_ did not converge\n",
      "  \"the coef_ did not converge\", ConvergenceWarning)\n"
     ]
    },
    {
     "name": "stdout",
     "output_type": "stream",
     "text": [
      "C: 1\n",
      "l1_ratio 0.1\n",
      "Training accuracy: 0.9057056145675265\n",
      "Test accuracy: 0.9071376547705754\n",
      "\n"
     ]
    },
    {
     "name": "stderr",
     "output_type": "stream",
     "text": [
      "/anaconda3/lib/python3.7/site-packages/sklearn/linear_model/sag.py:337: ConvergenceWarning: The max_iter was reached which means the coef_ did not converge\n",
      "  \"the coef_ did not converge\", ConvergenceWarning)\n"
     ]
    },
    {
     "name": "stdout",
     "output_type": "stream",
     "text": [
      "C: 1\n",
      "l1_ratio 0.01\n",
      "Training accuracy: 0.9057056145675265\n",
      "Test accuracy: 0.9071376547705754\n",
      "\n"
     ]
    },
    {
     "name": "stderr",
     "output_type": "stream",
     "text": [
      "/anaconda3/lib/python3.7/site-packages/sklearn/linear_model/sag.py:337: ConvergenceWarning: The max_iter was reached which means the coef_ did not converge\n",
      "  \"the coef_ did not converge\", ConvergenceWarning)\n"
     ]
    },
    {
     "name": "stdout",
     "output_type": "stream",
     "text": [
      "C: 1\n",
      "l1_ratio 0.001\n",
      "Training accuracy: 0.9057056145675265\n",
      "Test accuracy: 0.9071376547705754\n",
      "\n"
     ]
    },
    {
     "name": "stderr",
     "output_type": "stream",
     "text": [
      "/anaconda3/lib/python3.7/site-packages/sklearn/linear_model/sag.py:337: ConvergenceWarning: The max_iter was reached which means the coef_ did not converge\n",
      "  \"the coef_ did not converge\", ConvergenceWarning)\n"
     ]
    },
    {
     "name": "stdout",
     "output_type": "stream",
     "text": [
      "C: 0.1\n",
      "l1_ratio 1\n",
      "Training accuracy: 0.9057056145675265\n",
      "Test accuracy: 0.9071376547705754\n",
      "\n"
     ]
    },
    {
     "name": "stderr",
     "output_type": "stream",
     "text": [
      "/anaconda3/lib/python3.7/site-packages/sklearn/linear_model/sag.py:337: ConvergenceWarning: The max_iter was reached which means the coef_ did not converge\n",
      "  \"the coef_ did not converge\", ConvergenceWarning)\n"
     ]
    },
    {
     "name": "stdout",
     "output_type": "stream",
     "text": [
      "C: 0.1\n",
      "l1_ratio 0.5\n",
      "Training accuracy: 0.9057056145675265\n",
      "Test accuracy: 0.9071376547705754\n",
      "\n"
     ]
    },
    {
     "name": "stderr",
     "output_type": "stream",
     "text": [
      "/anaconda3/lib/python3.7/site-packages/sklearn/linear_model/sag.py:337: ConvergenceWarning: The max_iter was reached which means the coef_ did not converge\n",
      "  \"the coef_ did not converge\", ConvergenceWarning)\n"
     ]
    },
    {
     "name": "stdout",
     "output_type": "stream",
     "text": [
      "C: 0.1\n",
      "l1_ratio 0.1\n",
      "Training accuracy: 0.9057056145675265\n",
      "Test accuracy: 0.9071376547705754\n",
      "\n"
     ]
    },
    {
     "name": "stderr",
     "output_type": "stream",
     "text": [
      "/anaconda3/lib/python3.7/site-packages/sklearn/linear_model/sag.py:337: ConvergenceWarning: The max_iter was reached which means the coef_ did not converge\n",
      "  \"the coef_ did not converge\", ConvergenceWarning)\n"
     ]
    },
    {
     "name": "stdout",
     "output_type": "stream",
     "text": [
      "C: 0.1\n",
      "l1_ratio 0.01\n",
      "Training accuracy: 0.9057056145675265\n",
      "Test accuracy: 0.9071376547705754\n",
      "\n"
     ]
    },
    {
     "name": "stderr",
     "output_type": "stream",
     "text": [
      "/anaconda3/lib/python3.7/site-packages/sklearn/linear_model/sag.py:337: ConvergenceWarning: The max_iter was reached which means the coef_ did not converge\n",
      "  \"the coef_ did not converge\", ConvergenceWarning)\n"
     ]
    },
    {
     "name": "stdout",
     "output_type": "stream",
     "text": [
      "C: 0.1\n",
      "l1_ratio 0.001\n",
      "Training accuracy: 0.9057056145675265\n",
      "Test accuracy: 0.9071376547705754\n",
      "\n"
     ]
    },
    {
     "name": "stderr",
     "output_type": "stream",
     "text": [
      "/anaconda3/lib/python3.7/site-packages/sklearn/linear_model/sag.py:337: ConvergenceWarning: The max_iter was reached which means the coef_ did not converge\n",
      "  \"the coef_ did not converge\", ConvergenceWarning)\n"
     ]
    },
    {
     "name": "stdout",
     "output_type": "stream",
     "text": [
      "C: 0.001\n",
      "l1_ratio 1\n",
      "Training accuracy: 0.9060091047040971\n",
      "Test accuracy: 0.9066521000242778\n",
      "\n"
     ]
    },
    {
     "name": "stderr",
     "output_type": "stream",
     "text": [
      "/anaconda3/lib/python3.7/site-packages/sklearn/linear_model/sag.py:337: ConvergenceWarning: The max_iter was reached which means the coef_ did not converge\n",
      "  \"the coef_ did not converge\", ConvergenceWarning)\n"
     ]
    },
    {
     "name": "stdout",
     "output_type": "stream",
     "text": [
      "C: 0.001\n",
      "l1_ratio 0.5\n",
      "Training accuracy: 0.9058877086494689\n",
      "Test accuracy: 0.907016266084001\n",
      "\n"
     ]
    },
    {
     "name": "stderr",
     "output_type": "stream",
     "text": [
      "/anaconda3/lib/python3.7/site-packages/sklearn/linear_model/sag.py:337: ConvergenceWarning: The max_iter was reached which means the coef_ did not converge\n",
      "  \"the coef_ did not converge\", ConvergenceWarning)\n"
     ]
    },
    {
     "name": "stdout",
     "output_type": "stream",
     "text": [
      "C: 0.001\n",
      "l1_ratio 0.1\n",
      "Training accuracy: 0.9057359635811836\n",
      "Test accuracy: 0.9073804321437242\n",
      "\n"
     ]
    },
    {
     "name": "stderr",
     "output_type": "stream",
     "text": [
      "/anaconda3/lib/python3.7/site-packages/sklearn/linear_model/sag.py:337: ConvergenceWarning: The max_iter was reached which means the coef_ did not converge\n",
      "  \"the coef_ did not converge\", ConvergenceWarning)\n"
     ]
    },
    {
     "name": "stdout",
     "output_type": "stream",
     "text": [
      "C: 0.001\n",
      "l1_ratio 0.01\n",
      "Training accuracy: 0.9057056145675265\n",
      "Test accuracy: 0.9071376547705754\n",
      "\n",
      "C: 0.001\n",
      "l1_ratio 0.001\n",
      "Training accuracy: 0.9057056145675265\n",
      "Test accuracy: 0.9071376547705754\n",
      "\n"
     ]
    },
    {
     "name": "stderr",
     "output_type": "stream",
     "text": [
      "/anaconda3/lib/python3.7/site-packages/sklearn/linear_model/sag.py:337: ConvergenceWarning: The max_iter was reached which means the coef_ did not converge\n",
      "  \"the coef_ did not converge\", ConvergenceWarning)\n"
     ]
    }
   ],
   "source": [
    "C = [10, 1, .1, .001]\n",
    "L1 = [1,.5,.1,.01,.001]\n",
    "\n",
    "for c in C: \n",
    "    for lr  in L1:\n",
    "        logregEN=LogisticRegression(penalty='elasticnet', C=c, solver='saga', l1_ratio=lr)\n",
    "        logregEN.fit(x_train, x_target)\n",
    "        preds_test = logregEN.predict(x_train)\n",
    "        print('C:', c)\n",
    "        print(\"l1_ratio\",lr)\n",
    "        #print('Coefficient of each feature:', logregEN.coef_)\n",
    "        print('Training accuracy:', logregEN.score(x_train, x_target))\n",
    "        print('Test accuracy:', logregEN.score(y_test, y_target))\n",
    "        print('')\n",
    "        #preds_test.shape\n",
    "        #print(logreg.score(preds_test, y))\n",
    "        #logregL1.score(x, y)"
   ]
  },
  {
   "cell_type": "markdown",
   "metadata": {},
   "source": [
    "## Naive Bayes\n",
    "\n",
    "For the Naive Bayes result. There were not many penalties in the scikit-learn package so we just used the default setting and calculated the probability to classify the data. Our model performed 86% accuracy in testing data and training dataset. It was not really well performance which compared to Logistic and LAD, but we will see after using dimensionality reduction techniques, PCA, Naive Bayes model has some improvement. In the Precision and recall both still had high percent performance and on the confusion matrix, general performed well, but for false positive, which meant the client didn’t subscribed a term deposit, but classify as subscribed, seems still have amount of number to be solved in future and also similarly to the false negative. Finally, in our Naive Bayes ROC curve, it seemed to be flatten after the true positive rate over 0.8."
   ]
  },
  {
   "cell_type": "code",
   "execution_count": 29,
   "metadata": {},
   "outputs": [
    {
     "name": "stdout",
     "output_type": "stream",
     "text": [
      " \n",
      "Naive Bayes \n",
      "\n",
      "-------------------------------------------------------------------------\n",
      "Training accuracy: 0.8640060698027314\n",
      "              precision    recall  f1-score   support\n",
      "\n",
      "           0       0.91      0.94      0.92     28318\n",
      "           1       0.52      0.42      0.46      4632\n",
      "\n",
      "    accuracy                           0.86     32950\n",
      "   macro avg       0.71      0.68      0.69     32950\n",
      "weighted avg       0.85      0.86      0.86     32950\n",
      "\n",
      "Predict Training Data with Actual Training Data: \n",
      " [[26541  1777]\n",
      " [ 2704  1928]]\n",
      "\n",
      "-------------------------------------------------------------------------\n",
      "Test accuracy: 0.864530225782957\n",
      "\n",
      "              precision    recall  f1-score   support\n",
      "\n",
      "           0       0.91      0.94      0.92      7083\n",
      "           1       0.52      0.42      0.47      1155\n",
      "\n",
      "    accuracy                           0.86      8238\n",
      "   macro avg       0.71      0.68      0.69      8238\n",
      "weighted avg       0.85      0.86      0.86      8238\n",
      "\n",
      "Predict Test Data with Actual Test Data: \n",
      " [[6635  448]\n",
      " [ 668  487]]\n"
     ]
    }
   ],
   "source": [
    "from sklearn.naive_bayes import GaussianNB\n",
    "\n",
    "nbclf = GaussianNB()\n",
    "nbclf = nbclf.fit(x_train, x_target)\n",
    "nbpreds_train = nbclf.predict(x_train)\n",
    "#print('Coefficient of each feature:', nbclf.get_params())\n",
    "print(\" \\nNaive Bayes \")\n",
    "print('\\n-------------------------------------------------------------------------')\n",
    "print('Training accuracy:', nbclf.score(x_train, x_target))\n",
    "\n",
    "print(classification_report(nbpreds_train, x_target))\n",
    "nbtraincm = confusion_matrix(nbpreds_train, x_target)\n",
    "print(\"Predict Training Data with Actual Training Data: \\n\", nbtraincm)\n",
    "\n",
    "print('\\n-------------------------------------------------------------------------')\n",
    "nbpreds_test = nbclf.predict(y_test)\n",
    "print('Test accuracy:', nbclf.score(y_test, y_target))\n",
    "print('')\n",
    "print(classification_report(nbpreds_test, y_target))\n",
    "nbtestcm = confusion_matrix(nbpreds_test, y_target)\n",
    "print(\"Predict Test Data with Actual Test Data: \\n\", nbtestcm)"
   ]
  },
  {
   "cell_type": "code",
   "execution_count": 30,
   "metadata": {},
   "outputs": [
    {
     "data": {
      "image/png": "[encoded data removed]",
      "text/plain": [
       "<Figure size 576x432 with 2 Axes>"
      ]
     },
     "metadata": {
      "needs_background": "light"
     },
     "output_type": "display_data"
    }
   ],
   "source": [
    "plot_confusion_matrix(cm = nbtestcm, \n",
    "                      normalize    = False,\n",
    "                      target_names =  ['No', 'Yes'],\n",
    "                      title        = \"Testing Data with Naive Bayes Confusion Matrix\")"
   ]
  },
  {
   "cell_type": "code",
   "execution_count": 32,
   "metadata": {},
   "outputs": [
    {
     "data": {
      "image/png": "[encoded data removed]",
      "text/plain": [
       "<Figure size 576x432 with 1 Axes>"
      ]
     },
     "metadata": {
      "needs_background": "light"
     },
     "output_type": "display_data"
    }
   ],
   "source": [
    "logit_roc_auc = roc_auc_score(y_target, nbclf.predict(y_test))\n",
    "fpr, tpr, thresholds = roc_curve(y_target, nbclf.predict_proba(y_test)[:,1])\n",
    "\n",
    "\n",
    "plt.figure(figsize=(8, 6))\n",
    "plt.plot(fpr, tpr, label='Logistic Regression (area = %0.2f)' % logit_roc_auc)\n",
    "plt.plot([0, 1], [0, 1],'r--')\n",
    "plt.xlim([0.0, 1.0])\n",
    "plt.ylim([0.0, 1.05])\n",
    "plt.xlabel('False Positive Rate')\n",
    "plt.ylabel('True Positive Rate')\n",
    "plt.title('Naive Bayes Receiver operating characteristic')\n",
    "plt.legend(loc=\"lower right\")\n",
    "plt.savefig('Log_ROC')\n",
    "plt.show()"
   ]
  },
  {
   "cell_type": "markdown",
   "metadata": {},
   "source": [
    "## LDA\n",
    "For the Linear Discriminant Analysis result. Linear Discriminant Analysis focused on separate differences in the classes of data by creating new axes. Our model performed 90.9 % accuracy in training data and 90.8 % accuracy in testing dataset. Furthermore, the Precision and recall both had high percent performance and on the confusion matrix, general performed well, but for false positive, which meant the client didn’t subscribe to a term deposit, but classify as subscribed, and seemed still can be improved in future. Finally, in our Linear Discriminant Analysis ROC curve, it also showed that even if we raise up the thresholds, we still could not fix the False Positive, it seemed to be flatten after the true positive rate over 0.9."
   ]
  },
  {
   "cell_type": "code",
   "execution_count": 33,
   "metadata": {},
   "outputs": [
    {
     "name": "stdout",
     "output_type": "stream",
     "text": [
      "\n",
      "Linear Discriminant Analysis\n",
      "\n",
      "-------------------------------------------------------------------------\n",
      "Training accuracy: 0.9098330804248862\n",
      "\n",
      "              precision    recall  f1-score   support\n",
      "\n",
      "           0       0.96      0.94      0.95     29906\n",
      "           1       0.51      0.62      0.56      3044\n",
      "\n",
      "    accuracy                           0.91     32950\n",
      "   macro avg       0.74      0.78      0.75     32950\n",
      "weighted avg       0.92      0.91      0.91     32950\n",
      "\n",
      "Predict Training Data with Actual Training Data: \n",
      " [[28090  1816]\n",
      " [ 1155  1889]]\n",
      "\n",
      "-------------------------------------------------------------------------\n",
      "\n",
      "Test accuracy: 0.9085943190094683\n",
      "\n",
      "              precision    recall  f1-score   support\n",
      "\n",
      "           0       0.96      0.94      0.95      7458\n",
      "           1       0.51      0.62      0.56       780\n",
      "\n",
      "    accuracy                           0.91      8238\n",
      "   macro avg       0.74      0.78      0.75      8238\n",
      "weighted avg       0.92      0.91      0.91      8238\n",
      "\n",
      "Predict Test Data with Actual Test Data: \n",
      " [[7004  454]\n",
      " [ 299  481]]\n"
     ]
    },
    {
     "name": "stderr",
     "output_type": "stream",
     "text": [
      "/anaconda3/lib/python3.7/site-packages/sklearn/discriminant_analysis.py:388: UserWarning: Variables are collinear.\n",
      "  warnings.warn(\"Variables are collinear.\")\n"
     ]
    }
   ],
   "source": [
    "from sklearn.discriminant_analysis import LinearDiscriminantAnalysis\n",
    "\n",
    "ldclf = LinearDiscriminantAnalysis()\n",
    "ldclf = ldclf.fit(x_train, x_target)\n",
    "ldpreds_train = ldclf.predict(x_train)\n",
    "\n",
    "print(\"\\nLinear Discriminant Analysis\")\n",
    "print('\\n-------------------------------------------------------------------------')\n",
    "\n",
    "print('Training accuracy:', ldclf.score(x_train, x_target))\n",
    "print('')\n",
    "print(classification_report(ldpreds_train, x_target))\n",
    "ldtraincm = confusion_matrix(ldpreds_train, x_target)\n",
    "print(\"Predict Training Data with Actual Training Data: \\n\", ldtraincm)\n",
    "\n",
    "print('\\n-------------------------------------------------------------------------')\n",
    "\n",
    "ldpre_test = ldclf.predict(y_test)\n",
    "print('\\nTest accuracy:', ldclf.score(y_test, y_target))\n",
    "print('')\n",
    "print(classification_report(ldpre_test, y_target))\n",
    "ldtestcm = confusion_matrix(ldpre_test, y_target)\n",
    "print(\"Predict Test Data with Actual Test Data: \\n\", ldtestcm)"
   ]
  },
  {
   "cell_type": "code",
   "execution_count": 34,
   "metadata": {},
   "outputs": [
    {
     "data": {
      "image/png": "[encoded data removed]",
      "text/plain": [
       "<Figure size 576x432 with 2 Axes>"
      ]
     },
     "metadata": {
      "needs_background": "light"
     },
     "output_type": "display_data"
    }
   ],
   "source": [
    "plot_confusion_matrix(cm = ldtestcm, \n",
    "                      normalize    = False,\n",
    "                      target_names = ['No', 'Yes'],\n",
    "                      title        = \"Testing Data with Linear Discriminant Analysis Confusion Matrix\")"
   ]
  },
  {
   "cell_type": "code",
   "execution_count": 36,
   "metadata": {},
   "outputs": [
    {
     "data": {
      "image/png": "[encoded data removed]",
      "text/plain": [
       "<Figure size 576x432 with 1 Axes>"
      ]
     },
     "metadata": {
      "needs_background": "light"
     },
     "output_type": "display_data"
    }
   ],
   "source": [
    "logit_roc_auc = roc_auc_score(y_target, ldclf.predict(y_test))\n",
    "fpr, tpr, thresholds = roc_curve(y_target, ldclf.predict_proba(y_test)[:,1])\n",
    "\n",
    "\n",
    "plt.figure(figsize=(8, 6))\n",
    "plt.plot(fpr, tpr, label='Logistic Regression (area = %0.2f)' % logit_roc_auc)\n",
    "plt.plot([0, 1], [0, 1],'r--')\n",
    "plt.xlim([0.0, 1.0])\n",
    "plt.ylim([0.0, 1.05])\n",
    "plt.xlabel('False Positive Rate')\n",
    "plt.ylabel('True Positive Rate')\n",
    "plt.title('Linear Discriminant Analysis  Receiver operating characteristic')\n",
    "plt.legend(loc=\"lower right\")\n",
    "plt.savefig('Log_ROC')\n",
    "plt.show()"
   ]
  },
  {
   "cell_type": "markdown",
   "metadata": {},
   "source": [
    "## PCA\n",
    "\n",
    "Since we had 63 columns after we created the dummy variables in our variables, we decided to use principal components analysis, which was dimensionality reduction technique. First we did min-max normalization on our data, then we could compare with and without normalization performance. In normalization, Principal Component Number had around 30 components to satisfy 95% representation of data, but surprisingly, without normalization, Principal Component Number just had 3 components that could satisfy 99% representation of data. Because of the dimensionality much less than the other, we decided to use original data to PCA  in 3 components. Second, we used the PCA matrix to redo our three classifications again. Each of the models had quite similar accuracy to using original data. For Logistic Regression, we used  L1 regularization Logistic Regression and inverse of regularization strength to 10, and we got 90.6% accuracy on training data and 90.8% accuracy on test data, so we discovered that the original dataset performs better accuracy. For Naive Bayes, we got 90.6% accuracy on training data and test data. Furthermore, in the Naive Bayes model, we improved 4% accuracy on both training and testing. In the Precision and recall both raised up performance and on the confusion matrix, we lowered down the true negative, which meant the client did subscribe to a term deposit, but classify as not subscribed. Yet, in our Naive Bayes ROC curve, it raised its threshold and became flatten after the true positive rate over 0.9, just like L1 regularization Logistic Regression. Last model, Linear Discriminant Analysis had similar results but not better. We got 90.4% accuracy on training data and 90.6% accuracy on test data. Based on our discovery,  principal components analysis could help us use less dimensions and still predict decent accuracy for our data."
   ]
  },
  {
   "cell_type": "code",
   "execution_count": 84,
   "metadata": {},
   "outputs": [
    {
     "name": "stdout",
     "output_type": "stream",
     "text": [
      "[[-167.33314438331996       -32.279163387333845      -52.98919161911962      ...    0.0000000000004100536\n",
      "    -0.0000000000003449292    0.000000000000451606 ]\n",
      " [-142.69652044967975       -13.216202557502816       74.22191278921609      ...    0.0000000000001162137\n",
      "     0.0000000000002024423    0.0000000000000085259]\n",
      " [-245.35707017032382        -4.821841568494809       75.04524066380137      ...   -0.0000000000000239399\n",
      "    -0.0000000000000824513    0.0000000000000344698]\n",
      " ...\n",
      " [  14.921197243779384      972.3155959032063         -8.066736520711425     ...   -0.0000000000000043799\n",
      "    -0.0000000000000013658    0.000000000000005987 ]\n",
      " [  33.77970604827789       -42.53410563168605       -18.057527646362153     ...   -0.0000000000000041507\n",
      "    -0.0000000000000101209    0.0000000000000016963]\n",
      " [  70.87560254423516       -51.64114716502839       -54.888777120027484     ...    0.0000000000000025817\n",
      "    -0.0000000000000003625    0.0000000000000016618]]\n"
     ]
    }
   ],
   "source": [
    "#(x_train, x_target)\n",
    "\n",
    "from sklearn import decomposition\n",
    "\n",
    "pca = decomposition.PCA(n_components=63)\n",
    "# n_components=19 \n",
    "#[0.61 0.13 0.1  0.05 0.04 0.02 0.02 0.02 0.01 0.01 0.   0.   0.   0. 0.   0.   0.   0.   0.  ]\n",
    "# so we pick n_components = 7, at least 95% \n",
    "x_train_pca = pca.fit_transform(x_train)\n",
    "\n",
    "np.set_printoptions(precision=19,suppress=True)\n",
    "\n",
    "print(x_train_pca)"
   ]
  },
  {
   "cell_type": "code",
   "execution_count": 86,
   "metadata": {},
   "outputs": [
    {
     "data": {
      "image/png": "[encoded data removed]",
      "text/plain": [
       "<Figure size 576x432 with 1 Axes>"
      ]
     },
     "metadata": {
      "needs_background": "light"
     },
     "output_type": "display_data"
    },
    {
     "name": "stdout",
     "output_type": "stream",
     "text": [
      "Top three PCA can perform: 99.8662700492688 percentage of Variance\n"
     ]
    }
   ],
   "source": [
    "import matplotlib.pyplot as plt\n",
    "%matplotlib inline\n",
    "\n",
    "fig = plt.figure(figsize=(8, 6))\n",
    "ax = fig.add_subplot(111)\n",
    "ax.plot(range(1, 11), pca.explained_variance_ratio_[:10], marker='^')\n",
    "plt.xlabel('Principal Component Number')\n",
    "plt.ylabel('Percentage of Variance')\n",
    "plt.show()\n",
    "print(\"Top three PCA can perform: {} percentage of Variance\".format(sum(pca.explained_variance_ratio_[:3])*100))"
   ]
  },
  {
   "cell_type": "markdown",
   "metadata": {},
   "source": [
    "#### Top Three Pca can represent 99% of the data "
   ]
  },
  {
   "cell_type": "code",
   "execution_count": 94,
   "metadata": {},
   "outputs": [
    {
     "name": "stdout",
     "output_type": "stream",
     "text": [
      "[[-167.333  -32.279  -52.989]\n",
      " [-142.697  -13.216   74.222]\n",
      " [-245.357   -4.822   75.045]\n",
      " ...\n",
      " [  14.921  972.316   -8.067]\n",
      " [  33.78   -42.534  -18.058]\n",
      " [  70.876  -51.641  -54.889]]\n",
      "\n",
      " Training data PCA can perform: 99.86627004926868 percentage of variance. \n",
      "\n",
      "[[ 109.258  -32.37    72.513]\n",
      " [  22.209  -42.231  -18.081]\n",
      " [-209.266  -14.93    73.816]\n",
      " ...\n",
      " [-119.407  -19.853   73.406]\n",
      " [1062.155 -105.222  -58.979]\n",
      " [ -71.649  -37.078  -17.683]]\n",
      "\n",
      " Test data PCA can perform: 99.86856515530388 percentage of variance. \n",
      "\n"
     ]
    }
   ],
   "source": [
    "# so we pick n_components = 7, at least 99% \n",
    "\n",
    "pca = decomposition.PCA(n_components=3)\n",
    "\n",
    "x_train_pca = pca.fit_transform(x_train)\n",
    "\n",
    "np.set_printoptions(precision=3,suppress=True,linewidth=120)\n",
    "\n",
    "print(x_train_pca)\n",
    "\n",
    "print(\"\\n Training data PCA can perform: {} percentage of variance. \\n\".format(sum(pca.explained_variance_ratio_)*100))\n",
    "\n",
    "pca = decomposition.PCA(n_components=3)\n",
    "\n",
    "y_test_pca = pca.fit_transform(y_test)\n",
    "\n",
    "np.set_printoptions(precision=3,suppress=True,linewidth=120)\n",
    "\n",
    "print(y_test_pca)\n",
    "\n",
    "print(\"\\n Test data PCA can perform: {} percentage of variance. \\n\".format(sum(pca.explained_variance_ratio_)*100))\n"
   ]
  },
  {
   "cell_type": "code",
   "execution_count": 95,
   "metadata": {},
   "outputs": [
    {
     "name": "stdout",
     "output_type": "stream",
     "text": [
      "[0 0 0 ... 1 0 0]\n",
      "Coefficient of each feature: \n",
      "\n",
      " [[0.005 0.003 0.014]]\n",
      "\n",
      "Training accuracy: 0.9069195751138088\n",
      "\n",
      "Test accuracy: 0.9081087642631707\n"
     ]
    }
   ],
   "source": [
    "logreg=LogisticRegression(penalty=\"none\", solver = \"lbfgs\")\n",
    "logreg.fit(x_train_pca, x_target)\n",
    "preds_train = logreg.predict(x_train_pca)\n",
    "print(preds_train)\n",
    "#print(logreg.score(preds_test, y))\n",
    "print('Coefficient of each feature: \\n\\n', logreg.coef_)\n",
    "print('\\nTraining accuracy:', logreg.score(x_train_pca, x_target))\n",
    "print('\\nTest accuracy:', logreg.score(y_test_pca, y_target))"
   ]
  },
  {
   "cell_type": "code",
   "execution_count": 96,
   "metadata": {},
   "outputs": [
    {
     "name": "stdout",
     "output_type": "stream",
     "text": [
      "C: 10\n",
      "\n",
      "Coefficient of each feature: [[0.005 0.003 0.014]]\n",
      "\n",
      "-------------------------------------------------------------------------\n",
      "\n",
      "Training accuracy: 0.9069195751138088\n",
      "              precision    recall  f1-score   support\n",
      "\n",
      "           0       0.98      0.92      0.95     30856\n",
      "           1       0.37      0.65      0.47      2094\n",
      "\n",
      "    accuracy                           0.91     32950\n",
      "   macro avg       0.67      0.79      0.71     32950\n",
      "weighted avg       0.94      0.91      0.92     32950\n",
      "\n",
      "Predict Training Data with Actual Training Data: \n",
      " [[28517  2339]\n",
      " [  728  1366]]\n",
      "\n",
      "-------------------------------------------------------------------------\n",
      "\n",
      "Test accuracy: 0.9081087642631707\n",
      "              precision    recall  f1-score   support\n",
      "\n",
      "           0       0.98      0.93      0.95      7700\n",
      "           1       0.38      0.67      0.49       538\n",
      "\n",
      "    accuracy                           0.91      8238\n",
      "   macro avg       0.68      0.80      0.72      8238\n",
      "weighted avg       0.94      0.91      0.92      8238\n",
      "\n",
      "Predict Testing Data with Actual Testing Data: \n",
      " [[7123  577]\n",
      " [ 180  358]]\n"
     ]
    }
   ],
   "source": [
    "PCAlogregL1=LogisticRegression(penalty='l1', C=10, solver='liblinear')\n",
    "PCAlogregL1.fit(x_train_pca, x_target)\n",
    "PCAlogregL1_preds_train = PCAlogregL1.predict(x_train_pca)\n",
    "\n",
    "print('C:', \"10\\n\")\n",
    "print('Coefficient of each feature:', PCAlogregL1.coef_)\n",
    "print('\\n-------------------------------------------------------------------------\\n')\n",
    "print('Training accuracy:', PCAlogregL1.score(x_train_pca, x_target))\n",
    "\n",
    "    #preds_test.shape\n",
    "    #print(logreg.score(preds_test, y))\n",
    "    #logregL1.score(x, y)\n",
    "\n",
    "print(classification_report(PCAlogregL1_preds_train, x_target))\n",
    "PCAlogreglogregL1traincm = confusion_matrix(PCAlogregL1_preds_train, x_target)\n",
    "\n",
    "print(\"Predict Training Data with Actual Training Data: \\n\", PCAlogreglogregL1traincm)\n",
    "print('\\n-------------------------------------------------------------------------\\n')\n",
    "\n",
    "print('Test accuracy:', PCAlogregL1.score(y_test_pca, y_target))\n",
    "# predict test data\n",
    "PCAlogregL1preds_test = PCAlogregL1.predict(y_test_pca)\n",
    "#preds_test.shape\n",
    "print(classification_report(PCAlogregL1preds_test, y_target))\n",
    "PCAlogregL1testcm = confusion_matrix(PCAlogregL1preds_test, y_target)\n",
    "print(\"Predict Testing Data with Actual Testing Data: \\n\" ,PCAlogregL1testcm)"
   ]
  },
  {
   "cell_type": "markdown",
   "metadata": {},
   "source": [
    "#### GaussianNB"
   ]
  },
  {
   "cell_type": "code",
   "execution_count": 97,
   "metadata": {},
   "outputs": [
    {
     "name": "stdout",
     "output_type": "stream",
     "text": [
      " \n",
      "Naive Bayes with PCA \n",
      "\n",
      "-------------------------------------------------------------------------\n",
      "Training accuracy: 0.9045220030349014\n",
      "\n",
      "              precision    recall  f1-score   support\n",
      "\n",
      "           0       0.97      0.93      0.95     30475\n",
      "           1       0.41      0.61      0.49      2475\n",
      "\n",
      "    accuracy                           0.90     32950\n",
      "   macro avg       0.69      0.77      0.72     32950\n",
      "weighted avg       0.93      0.90      0.91     32950\n",
      "\n",
      "Predict Training Data with Actual Training Data: \n",
      " [[28287  2188]\n",
      " [  958  1517]]\n",
      "\n",
      "-------------------------------------------------------------------------\n",
      "Test accuracy: 0.9047098810390871\n",
      "              precision    recall  f1-score   support\n",
      "\n",
      "           0       0.97      0.93      0.95      7606\n",
      "           1       0.42      0.62      0.50       632\n",
      "\n",
      "    accuracy                           0.90      8238\n",
      "   macro avg       0.69      0.77      0.72      8238\n",
      "weighted avg       0.92      0.90      0.91      8238\n",
      "\n",
      "Predict Test Data with Actual Test Data: \n",
      " [[7062  544]\n",
      " [ 241  391]]\n"
     ]
    }
   ],
   "source": [
    "nbclf = GaussianNB()\n",
    "nbclf = nbclf.fit(x_train_pca, x_target)\n",
    "nbpreds_train = nbclf.predict(x_train_pca)\n",
    "#print('Coefficient of each feature:', nbclf.get_params())\n",
    "print(\" \\nNaive Bayes with PCA \")\n",
    "print('\\n-------------------------------------------------------------------------')\n",
    "print('Training accuracy:', nbclf.score(x_train_pca, x_target))\n",
    "print('')\n",
    "\n",
    "nbpreds_test = nbclf.predict(y_test_pca)\n",
    "print(classification_report(nbpreds_train, x_target))\n",
    "nbtraincm = confusion_matrix(nbpreds_train, x_target)\n",
    "print(\"Predict Training Data with Actual Training Data: \\n\", nbtraincm)\n",
    "\n",
    "print('\\n-------------------------------------------------------------------------')\n",
    "print('Test accuracy:', nbclf.score(y_test_pca, y_target))\n",
    "print(classification_report(nbpreds_test, y_target))\n",
    "nbtestcm = confusion_matrix(nbpreds_test, y_target)\n",
    "print(\"Predict Test Data with Actual Test Data: \\n\", nbtestcm)\n"
   ]
  },
  {
   "cell_type": "code",
   "execution_count": 43,
   "metadata": {},
   "outputs": [
    {
     "data": {
      "image/png": "[encoded data removed]",
      "text/plain": [
       "<Figure size 576x432 with 2 Axes>"
      ]
     },
     "metadata": {
      "needs_background": "light"
     },
     "output_type": "display_data"
    }
   ],
   "source": [
    "plot_confusion_matrix(cm = nbtestcm, \n",
    "                      normalize    = False,\n",
    "                      target_names = ['No', 'Yes'],\n",
    "                      title        = \"Testing Data with Naive Bayes with PCA Confusion Matrix\")"
   ]
  },
  {
   "cell_type": "code",
   "execution_count": 44,
   "metadata": {},
   "outputs": [
    {
     "data": {
      "image/png": "[encoded data removed]",
      "text/plain": [
       "<Figure size 576x432 with 1 Axes>"
      ]
     },
     "metadata": {
      "needs_background": "light"
     },
     "output_type": "display_data"
    }
   ],
   "source": [
    "logit_roc_auc = roc_auc_score(y_target, nbclf.predict(y_test_pca))\n",
    "fpr, tpr, thresholds = roc_curve(y_target, nbclf.predict_proba(y_test_pca)[:,1])\n",
    "\n",
    "\n",
    "plt.figure(figsize=(8, 6))\n",
    "plt.plot(fpr, tpr, label='Logistic Regression (area = %0.2f)' % logit_roc_auc)\n",
    "plt.plot([0, 1], [0, 1],'r--')\n",
    "plt.xlim([0.0, 1.0])\n",
    "plt.ylim([0.0, 1.05])\n",
    "plt.xlabel('False Positive Rate')\n",
    "plt.ylabel('True Positive Rate')\n",
    "plt.title(' Naive Bayes with PCA Receiver operating characteristic')\n",
    "plt.legend(loc=\"lower right\")\n",
    "plt.savefig('Log_ROC')\n",
    "plt.show()"
   ]
  },
  {
   "cell_type": "code",
   "execution_count": 47,
   "metadata": {},
   "outputs": [
    {
     "name": "stdout",
     "output_type": "stream",
     "text": [
      "Training accuracy: 0.9047040971168437\n",
      "\n",
      "              precision    recall  f1-score   support\n",
      "\n",
      "           0       0.97      0.93      0.95     30433\n",
      "           1       0.42      0.61      0.50      2517\n",
      "\n",
      "    accuracy                           0.90     32950\n",
      "   macro avg       0.69      0.77      0.72     32950\n",
      "weighted avg       0.92      0.90      0.91     32950\n",
      "\n",
      "Predict Training Data with Actual Training Data: \n",
      " [[28269  2164]\n",
      " [  976  1541]]\n",
      "\n",
      "Test accuracy: 0.9060451565914057\n",
      "\n",
      "              precision    recall  f1-score   support\n",
      "\n",
      "           0       0.96      0.93      0.95      7559\n",
      "           1       0.45      0.62      0.52       679\n",
      "\n",
      "    accuracy                           0.91      8238\n",
      "   macro avg       0.71      0.78      0.73      8238\n",
      "weighted avg       0.92      0.91      0.91      8238\n",
      "\n",
      "Predict Test Data with Actual Test Data: \n",
      " [[7044  515]\n",
      " [ 259  420]]\n"
     ]
    }
   ],
   "source": [
    "ldclf = LinearDiscriminantAnalysis()\n",
    "ldclf = ldclf.fit(x_train_pca, x_target)\n",
    "ldpreds_train = ldclf.predict(x_train_pca)\n",
    "ldpre_test = ldclf.predict(y_test_pca)\n",
    "\n",
    "print('Training accuracy:', ldclf.score(x_train_pca, x_target))\n",
    "print('')\n",
    "print(classification_report(ldpreds_train, x_target))\n",
    "ldtraincm = confusion_matrix(ldpreds_train, x_target)\n",
    "print(\"Predict Training Data with Actual Training Data: \\n\", ldtraincm)\n",
    "\n",
    "print('\\nTest accuracy:', ldclf.score(y_test_pca, y_target))\n",
    "print('')\n",
    "print(classification_report(ldpre_test, y_target))\n",
    "ldtestcm = confusion_matrix(ldpre_test, y_target)\n",
    "print(\"Predict Test Data with Actual Test Data: \\n\", ldtestcm)"
   ]
  },
  {
   "cell_type": "markdown",
   "metadata": {},
   "source": [
    "## SVD"
   ]
  },
  {
   "cell_type": "code",
   "execution_count": 48,
   "metadata": {},
   "outputs": [],
   "source": [
    "u, s, vt = np.linalg.svd(x_train, full_matrices=False)"
   ]
  },
  {
   "cell_type": "code",
   "execution_count": 49,
   "metadata": {},
   "outputs": [
    {
     "name": "stdout",
     "output_type": "stream",
     "text": [
      "[955572.175  47168.161  32307.338   1899.709    868.694    508.213    385.281    160.782    125.62     120.14\n",
      "    102.063    101.423     96.046     93.561     92.818     91.035     85.884     82.591     81.849     80.544\n",
      "     80.185     78.692     68.756     66.968     65.045     61.828     57.266     51.841     49.322     47.955\n",
      "     46.388     46.22      42.278     39.284     38.319     36.546     33.771     32.696     29.657     28.211\n",
      "     27.748     25.044     24.299     22.181     19.982     16.586     16.28      12.318     12.092      8.978\n",
      "      3.85       2.12       0.12       0.         0.         0.         0.         0.         0.         0.\n",
      "      0.         0.         0.   ]\n"
     ]
    }
   ],
   "source": [
    "print(s)\n",
    "#originalTD = np.dot(u, np.dot(np.diag(s), vt))\n",
    "#print(originalTD)"
   ]
  },
  {
   "cell_type": "code",
   "execution_count": 50,
   "metadata": {},
   "outputs": [
    {
     "name": "stdout",
     "output_type": "stream",
     "text": [
      "[[ 40.02  94.     2.01 ...   0.01   0.99  -0.  ]\n",
      " [ 31.01 116.     4.   ...   0.29   0.71   0.  ]\n",
      " [ 59.01  13.     5.99 ...   0.3    0.7    0.  ]\n",
      " ...\n",
      " [ 35.01 194.     0.99 ...   0.09  -0.     0.91]\n",
      " [ 40.   295.     2.   ...   0.02   0.98  -0.  ]\n",
      " [ 28.98 333.     2.01 ...   0.01   0.99  -0.  ]]\n"
     ]
    }
   ],
   "source": [
    "#print(originalTD,\"\\n\")\n",
    "# But, the goal of SVD is to use a smaller number of dimensions each of which \n",
    "# represent a latent variable capturing some cobminations of features associated \n",
    "# with the data (e.g., general themes in the documents). \n",
    "\n",
    "numDimensions = 7\n",
    "u_ld = u[:, :numDimensions]\n",
    "sigma = np.diag(s)[:numDimensions, :numDimensions]\n",
    "vt_ld = vt[:numDimensions, :]\n",
    "x_train_svd = np.dot(u_ld, np.dot(sigma, vt_ld))\n",
    "np.set_printoptions(precision=2,suppress=True,linewidth=120)\n",
    "print(x_train_svd)"
   ]
  },
  {
   "cell_type": "code",
   "execution_count": 51,
   "metadata": {},
   "outputs": [
    {
     "name": "stdout",
     "output_type": "stream",
     "text": [
      "[[  56.99  371.      1.   ...    0.3     0.7     0.  ]\n",
      " [  55.01  285.      2.01 ...    0.02    0.98   -0.  ]\n",
      " [  33.01   52.      0.99 ...    0.29    0.71    0.  ]\n",
      " ...\n",
      " [  45.98  142.     11.99 ...    0.28    0.72    0.  ]\n",
      " [  30.98 1327.      2.   ...   -0.01    1.      0.  ]\n",
      " [  58.98  191.      2.01 ...    0.03    0.97   -0.  ]]\n",
      "[[  57.  371.    1. ...    1.    0.    0.]\n",
      " [  55.  285.    2. ...    0.    1.    0.]\n",
      " [  33.   52.    1. ...    1.    0.    0.]\n",
      " ...\n",
      " [  46.  142.   12. ...    1.    0.    0.]\n",
      " [  31. 1327.    2. ...    0.    1.    0.]\n",
      " [  59.  191.    2. ...    0.    1.    0.]]\n"
     ]
    }
   ],
   "source": [
    "y_u, y_s, y_vt = np.linalg.svd(y_test, full_matrices=False)\n",
    "numDimensions = 7\n",
    "y_u_ld = y_u[:, :numDimensions]\n",
    "y_sigma = np.diag(y_s)[:numDimensions, :numDimensions]\n",
    "y_vt_ld = y_vt[:numDimensions, :]\n",
    "y_test_svd = np.dot(y_u_ld, np.dot(y_sigma, y_vt_ld))\n",
    "np.set_printoptions(precision=2,suppress=True,linewidth=120)\n",
    "print(y_test_svd)\n",
    "print(y_test)"
   ]
  },
  {
   "cell_type": "code",
   "execution_count": 52,
   "metadata": {},
   "outputs": [
    {
     "name": "stdout",
     "output_type": "stream",
     "text": [
      "[0 0 0 ... 1 0 0]\n",
      "Coefficient of each feature: \n",
      "\n",
      " [[ 0.    0.   -0.05 -0.    0.03 -0.27  0.15  0.04 -0.28 -0.    0.   -0.01 -0.   -0.    0.    0.   -0.   -0.    0.\n",
      "  -0.    0.   -0.   -0.   -0.01  0.01  0.   -0.   -0.   -0.    0.    0.   -0.    0.01  0.    0.02 -0.02 -0.   -0.\n",
      "   0.    0.01  0.    0.   -0.    0.03 -0.02  0.01 -0.    0.   -0.03 -0.01  0.    0.02 -0.    0.01  0.01  0.    0.\n",
      "   0.    0.   -0.    0.02 -0.02  0.  ]]\n",
      "\n",
      "Training accuracy: 0.9081942336874052\n",
      "\n",
      "Test accuracy: 0.909686817188638\n"
     ]
    },
    {
     "name": "stderr",
     "output_type": "stream",
     "text": [
      "/anaconda3/lib/python3.7/site-packages/sklearn/linear_model/logistic.py:947: ConvergenceWarning: lbfgs failed to converge. Increase the number of iterations.\n",
      "  \"of iterations.\", ConvergenceWarning)\n"
     ]
    }
   ],
   "source": [
    "logreg=LogisticRegression(penalty=\"none\", solver = \"lbfgs\")\n",
    "logreg.fit(x_train_svd, x_target)\n",
    "preds_train = logreg.predict(x_train_svd)\n",
    "print(preds_train)\n",
    "#print(logreg.score(preds_test, y))\n",
    "print('Coefficient of each feature: \\n\\n', logreg.coef_)\n",
    "print('\\nTraining accuracy:', logreg.score(x_train_svd, x_target))\n",
    "print('\\nTest accuracy:', logreg.score(y_test_svd, y_target))"
   ]
  },
  {
   "cell_type": "markdown",
   "metadata": {},
   "source": [
    "### GaussianNB"
   ]
  },
  {
   "cell_type": "code",
   "execution_count": 53,
   "metadata": {},
   "outputs": [
    {
     "name": "stdout",
     "output_type": "stream",
     "text": [
      "Training accuracy: 0.8650075872534143\n",
      "\n",
      "              precision    recall  f1-score   support\n",
      "\n",
      "           0       0.90      0.95      0.92     27789\n",
      "           1       0.60      0.43      0.50      5161\n",
      "\n",
      "    accuracy                           0.87     32950\n",
      "   macro avg       0.75      0.69      0.71     32950\n",
      "weighted avg       0.85      0.87      0.86     32950\n",
      "\n",
      "Predict Training Data with Actual Training Data: \n",
      " [[26293  1496]\n",
      " [ 2952  2209]]\n",
      "[1 0 0 ... 0 0 0]\n",
      "Test accuracy: 0.8611313425588735\n",
      "              precision    recall  f1-score   support\n",
      "\n",
      "           0       0.90      0.94      0.92      6923\n",
      "           1       0.59      0.42      0.49      1315\n",
      "\n",
      "    accuracy                           0.86      8238\n",
      "   macro avg       0.74      0.68      0.71      8238\n",
      "weighted avg       0.85      0.86      0.85      8238\n",
      "\n",
      "Predict Test Data with Actual Test Data: \n",
      " [[6541  382]\n",
      " [ 762  553]]\n"
     ]
    }
   ],
   "source": [
    "nbclf = GaussianNB()\n",
    "nbclf = nbclf.fit(x_train_svd, x_target)\n",
    "nbpreds_train = nbclf.predict(x_train_svd)\n",
    "#print('Coefficient of each feature:', nbclf.get_params())\n",
    "print('Training accuracy:', nbclf.score(x_train_svd, x_target))\n",
    "print('')\n",
    "print(classification_report(nbpreds_train, x_target))\n",
    "nbtraincm = confusion_matrix(nbpreds_train, x_target)\n",
    "print(\"Predict Training Data with Actual Training Data: \\n\", nbtraincm)\n",
    "\n",
    "\n",
    "nbpreds_test = nbclf.predict(y_test_svd)\n",
    "print(nbpreds_test)\n",
    "print('Test accuracy:', nbclf.score(y_test_svd, y_target))\n",
    "print(classification_report(nbpreds_test, y_target))\n",
    "nbtestcm = confusion_matrix(nbpreds_test, y_target)\n",
    "print(\"Predict Test Data with Actual Test Data: \\n\", nbtestcm)"
   ]
  },
  {
   "cell_type": "markdown",
   "metadata": {},
   "source": [
    "### LDA"
   ]
  },
  {
   "cell_type": "code",
   "execution_count": 54,
   "metadata": {},
   "outputs": [
    {
     "name": "stdout",
     "output_type": "stream",
     "text": [
      "Training accuracy: 0.9064036418816388\n",
      "\n",
      "              precision    recall  f1-score   support\n",
      "\n",
      "           0       0.97      0.93      0.95     30371\n",
      "           1       0.43      0.62      0.51      2579\n",
      "\n",
      "    accuracy                           0.91     32950\n",
      "   macro avg       0.70      0.78      0.73     32950\n",
      "weighted avg       0.92      0.91      0.91     32950\n",
      "\n",
      "Predict Training Data with Actual Training Data: \n",
      " [[28266  2105]\n",
      " [  979  1600]]\n",
      "\n",
      "Test accuracy: 0.8990046127700898\n",
      "\n",
      "              precision    recall  f1-score   support\n",
      "\n",
      "           0       0.94      0.94      0.94      7311\n",
      "           1       0.55      0.56      0.55       927\n",
      "\n",
      "    accuracy                           0.90      8238\n",
      "   macro avg       0.75      0.75      0.75      8238\n",
      "weighted avg       0.90      0.90      0.90      8238\n",
      "\n",
      "Predict Test Data with Actual Test y_target: \n",
      " [[6891  420]\n",
      " [ 412  515]]\n"
     ]
    },
    {
     "name": "stderr",
     "output_type": "stream",
     "text": [
      "/anaconda3/lib/python3.7/site-packages/sklearn/discriminant_analysis.py:388: UserWarning: Variables are collinear.\n",
      "  warnings.warn(\"Variables are collinear.\")\n"
     ]
    }
   ],
   "source": [
    "ldclf = LinearDiscriminantAnalysis()\n",
    "ldclf = ldclf.fit(x_train_svd, x_target)\n",
    "\n",
    "ldpreds_train = ldclf.predict(x_train_svd)\n",
    "ldpre_test = ldclf.predict(y_test_svd)\n",
    "\n",
    "print('Training accuracy:', ldclf.score(x_train_svd, x_target))\n",
    "print('')\n",
    "print(classification_report(ldpreds_train, x_target))\n",
    "ldtraincm = confusion_matrix(ldpreds_train, x_target)\n",
    "print(\"Predict Training Data with Actual Training Data: \\n\", ldtraincm)\n",
    "\n",
    "print('\\nTest accuracy:', ldclf.score(y_test_svd, y_target))\n",
    "print('')\n",
    "print(classification_report(ldpre_test, y_target))\n",
    "ldtestcm = confusion_matrix(ldpre_test, y_target)\n",
    "print(\"Predict Test Data with Actual Test y_target: \\n\", ldtestcm)"
   ]
  },
  {
   "cell_type": "markdown",
   "metadata": {},
   "source": [
    "## SVM\n",
    "\n",
    "For the Support Vector Machines result. SVM focused on separate differences in the classes of data by using separating hyperplane.Due to not being sure about our data pattern in high dimensions, We compared the training accuracy and the testing accuracy for the linear kernel SVM and radial basis function kernel SVM. Moreover, we also tested 5 different inverse of regularization strength numbers from C = [10, 1, 0.1, 0.001] in our radial basis function kernel.\n",
    "First, in linear kernel SVM, C doesn’t affect any accuracy, precision and recall so we chose the inverse of regularization strength number equal one. Our model performed 88.6 % accuracy in both training data and testing dataset. Similarly, in the radial basis function kernel SVM, we also chose the inverse of regularization strength number equal one, Our model performed 95.9 % accuracy in training data and 89.4% accuracy in testing dataset. Comparing two models, we  discovered that SVM with a radial basis function kernel has better performance on training and test data. Furthermore, the Precision and recall both had high percent performance and on the confusion matrix, general performed well, but for false positive has 677 wrong classified, which meant the client didn’t subscribe a term deposit, but classify as subscribed, it had an amount of number  so we have to think how to improve in future. Finally, in our SVM ROC curve, it raised its threshold and became flatten after the true positive rate over 0.8."
   ]
  },
  {
   "cell_type": "code",
   "execution_count": 115,
   "metadata": {},
   "outputs": [
    {
     "name": "stdout",
     "output_type": "stream",
     "text": [
      "10\n",
      "[0 0 0 ... 1 0 0]\n",
      "[0 0 0 ... 0 1 0]\n",
      "Training accuracy: 0.886525037936267\n",
      "\n",
      "              precision    recall  f1-score   support\n",
      "\n",
      "           0       0.94      0.93      0.94     29632\n",
      "           1       0.44      0.49      0.47      3318\n",
      "\n",
      "    accuracy                           0.89     32950\n",
      "   macro avg       0.69      0.71      0.70     32950\n",
      "weighted avg       0.89      0.89      0.89     32950\n",
      "\n",
      "Predict Training Data with Actual Training Data: \n",
      " [[27569  2063]\n",
      " [ 1676  1642]]\n",
      "\n",
      "Test accuracy: 0.8875940762320952\n",
      "\n",
      "              precision    recall  f1-score   support\n",
      "\n",
      "           0       0.94      0.93      0.94      7387\n",
      "           1       0.46      0.51      0.48       851\n",
      "\n",
      "    accuracy                           0.89      8238\n",
      "   macro avg       0.70      0.72      0.71      8238\n",
      "weighted avg       0.89      0.89      0.89      8238\n",
      "\n",
      "Predict Test Data with Actual Test Data: \n",
      " [[6882  505]\n",
      " [ 421  430]]\n",
      "5\n",
      "[0 0 0 ... 1 0 0]\n",
      "[0 0 0 ... 0 1 0]\n",
      "Training accuracy: 0.886525037936267\n",
      "\n",
      "              precision    recall  f1-score   support\n",
      "\n",
      "           0       0.94      0.93      0.94     29632\n",
      "           1       0.44      0.49      0.47      3318\n",
      "\n",
      "    accuracy                           0.89     32950\n",
      "   macro avg       0.69      0.71      0.70     32950\n",
      "weighted avg       0.89      0.89      0.89     32950\n",
      "\n",
      "Predict Training Data with Actual Training Data: \n",
      " [[27569  2063]\n",
      " [ 1676  1642]]\n",
      "\n",
      "Test accuracy: 0.8875940762320952\n",
      "\n",
      "              precision    recall  f1-score   support\n",
      "\n",
      "           0       0.94      0.93      0.94      7387\n",
      "           1       0.46      0.51      0.48       851\n",
      "\n",
      "    accuracy                           0.89      8238\n",
      "   macro avg       0.70      0.72      0.71      8238\n",
      "weighted avg       0.89      0.89      0.89      8238\n",
      "\n",
      "Predict Test Data with Actual Test Data: \n",
      " [[6882  505]\n",
      " [ 421  430]]\n",
      "1\n",
      "[0 0 0 ... 1 0 0]\n",
      "[0 0 0 ... 0 1 0]\n",
      "Training accuracy: 0.886525037936267\n",
      "\n",
      "              precision    recall  f1-score   support\n",
      "\n",
      "           0       0.94      0.93      0.94     29632\n",
      "           1       0.44      0.49      0.47      3318\n",
      "\n",
      "    accuracy                           0.89     32950\n",
      "   macro avg       0.69      0.71      0.70     32950\n",
      "weighted avg       0.89      0.89      0.89     32950\n",
      "\n",
      "Predict Training Data with Actual Training Data: \n",
      " [[27569  2063]\n",
      " [ 1676  1642]]\n",
      "\n",
      "Test accuracy: 0.8875940762320952\n",
      "\n",
      "              precision    recall  f1-score   support\n",
      "\n",
      "           0       0.94      0.93      0.94      7387\n",
      "           1       0.46      0.51      0.48       851\n",
      "\n",
      "    accuracy                           0.89      8238\n",
      "   macro avg       0.70      0.72      0.71      8238\n",
      "weighted avg       0.89      0.89      0.89      8238\n",
      "\n",
      "Predict Test Data with Actual Test Data: \n",
      " [[6882  505]\n",
      " [ 421  430]]\n",
      "0.1\n",
      "[0 0 0 ... 1 0 0]\n",
      "[0 0 0 ... 0 1 0]\n",
      "Training accuracy: 0.886525037936267\n",
      "\n",
      "              precision    recall  f1-score   support\n",
      "\n",
      "           0       0.94      0.93      0.94     29632\n",
      "           1       0.44      0.49      0.47      3318\n",
      "\n",
      "    accuracy                           0.89     32950\n",
      "   macro avg       0.69      0.71      0.70     32950\n",
      "weighted avg       0.89      0.89      0.89     32950\n",
      "\n",
      "Predict Training Data with Actual Training Data: \n",
      " [[27569  2063]\n",
      " [ 1676  1642]]\n",
      "\n",
      "Test accuracy: 0.8875940762320952\n",
      "\n",
      "              precision    recall  f1-score   support\n",
      "\n",
      "           0       0.94      0.93      0.94      7387\n",
      "           1       0.46      0.51      0.48       851\n",
      "\n",
      "    accuracy                           0.89      8238\n",
      "   macro avg       0.70      0.72      0.71      8238\n",
      "weighted avg       0.89      0.89      0.89      8238\n",
      "\n",
      "Predict Test Data with Actual Test Data: \n",
      " [[6882  505]\n",
      " [ 421  430]]\n",
      "0.01\n",
      "[0 0 0 ... 1 0 0]\n",
      "[0 0 0 ... 0 1 0]\n",
      "Training accuracy: 0.886525037936267\n",
      "\n",
      "              precision    recall  f1-score   support\n",
      "\n",
      "           0       0.94      0.93      0.94     29632\n",
      "           1       0.44      0.49      0.47      3318\n",
      "\n",
      "    accuracy                           0.89     32950\n",
      "   macro avg       0.69      0.71      0.70     32950\n",
      "weighted avg       0.89      0.89      0.89     32950\n",
      "\n",
      "Predict Training Data with Actual Training Data: \n",
      " [[27569  2063]\n",
      " [ 1676  1642]]\n",
      "\n",
      "Test accuracy: 0.8875940762320952\n",
      "\n",
      "              precision    recall  f1-score   support\n",
      "\n",
      "           0       0.94      0.93      0.94      7387\n",
      "           1       0.46      0.51      0.48       851\n",
      "\n",
      "    accuracy                           0.89      8238\n",
      "   macro avg       0.70      0.72      0.71      8238\n",
      "weighted avg       0.89      0.89      0.89      8238\n",
      "\n",
      "Predict Test Data with Actual Test Data: \n",
      " [[6882  505]\n",
      " [ 421  430]]\n"
     ]
    }
   ],
   "source": [
    "C=[10,5,1,0.1,.01]\n",
    "for c in C:   \n",
    "    from sklearn.svm import SVC # \"Support vector classifier\"\n",
    "    print(c)\n",
    "    model = SVC(kernel='linear', probability=True)\n",
    "    model.fit(x_train,x_target)\n",
    "    model_train = model.predict(x_train)\n",
    "    print(model_train)\n",
    "    model_test = model.predict(y_test)\n",
    "    print(model_test)\n",
    "\n",
    "    print('Training accuracy:', model.score(x_train, x_target))\n",
    "    print('')\n",
    "    print(classification_report(model_train, x_target))\n",
    "    SVCtraincm = confusion_matrix(model_train, x_target)\n",
    "    print(\"Predict Training Data with Actual Training Data: \\n\", SVCtraincm)\n",
    "\n",
    "    print('\\nTest accuracy:', model.score(y_test, y_target))\n",
    "    print('')\n",
    "    print(classification_report(model_test, y_target))\n",
    "    SVCtestcm = confusion_matrix(model_test, y_target)\n",
    "    print(\"Predict Test Data with Actual Test Data: \\n\", SVCtestcm)"
   ]
  },
  {
   "cell_type": "code",
   "execution_count": 105,
   "metadata": {},
   "outputs": [
    {
     "data": {
      "image/png": "[encoded data removed]",
      "text/plain": [
       "<Figure size 576x432 with 2 Axes>"
      ]
     },
     "metadata": {
      "needs_background": "light"
     },
     "output_type": "display_data"
    }
   ],
   "source": [
    "plot_confusion_matrix(cm = SVCtestcm, \n",
    "                      normalize    = False,\n",
    "                      target_names = ['No', 'Yes'],\n",
    "                      title        = \"Testing Data with Support vector classifier Confusion Matrix\")"
   ]
  },
  {
   "cell_type": "code",
   "execution_count": 106,
   "metadata": {},
   "outputs": [
    {
     "data": {
      "image/png": "[encoded data removed]",
      "text/plain": [
       "<Figure size 576x432 with 1 Axes>"
      ]
     },
     "metadata": {
      "needs_background": "light"
     },
     "output_type": "display_data"
    }
   ],
   "source": [
    "logit_roc_auc = roc_auc_score(y_target, model.predict(y_test))\n",
    "fpr, tpr, thresholds = roc_curve(y_target, model.predict_proba(y_test)[:,1])\n",
    "\n",
    "\n",
    "plt.figure(figsize=(8, 6))\n",
    "plt.plot(fpr, tpr, label='Logistic Regression (area = %0.2f)' % logit_roc_auc)\n",
    "plt.plot([0, 1], [0, 1],'r--')\n",
    "plt.xlim([0.0, 1.0])\n",
    "plt.ylim([0.0, 1.05])\n",
    "plt.xlabel('False Positive Rate')\n",
    "plt.ylabel('True Positive Rate')\n",
    "plt.title(' Naive Bayes with PCA Receiver operating characteristic')\n",
    "plt.legend(loc=\"lower right\")\n",
    "plt.savefig('Log_ROC')\n",
    "plt.show()"
   ]
  },
  {
   "cell_type": "code",
   "execution_count": 116,
   "metadata": {},
   "outputs": [
    {
     "name": "stderr",
     "output_type": "stream",
     "text": [
      "/anaconda3/lib/python3.7/site-packages/sklearn/svm/base.py:193: FutureWarning: The default value of gamma will change from 'auto' to 'scale' in version 0.22 to account better for unscaled features. Set gamma explicitly to 'auto' or 'scale' to avoid this warning.\n",
      "  \"avoid this warning.\", FutureWarning)\n"
     ]
    },
    {
     "name": "stdout",
     "output_type": "stream",
     "text": [
      "[0 0 0 ... 1 0 0]\n",
      "[0 0 0 ... 0 1 0]\n",
      "Training accuracy: 0.9974506828528072\n",
      "\n",
      "              precision    recall  f1-score   support\n",
      "\n",
      "           0       1.00      1.00      1.00     29319\n",
      "           1       0.98      1.00      0.99      3631\n",
      "\n",
      "    accuracy                           1.00     32950\n",
      "   macro avg       0.99      1.00      0.99     32950\n",
      "weighted avg       1.00      1.00      1.00     32950\n",
      "\n",
      "Predict Training Data with Actual Training Data: \n",
      " [[29240    79]\n",
      " [    5  3626]]\n",
      "\n",
      "Test accuracy: 0.885773245933479\n",
      "\n",
      "              precision    recall  f1-score   support\n",
      "\n",
      "           0       0.95      0.92      0.94      7530\n",
      "           1       0.38      0.50      0.43       708\n",
      "\n",
      "    accuracy                           0.89      8238\n",
      "   macro avg       0.66      0.71      0.68      8238\n",
      "weighted avg       0.90      0.89      0.89      8238\n",
      "\n",
      "Predict Test Data with Actual Test Data: \n",
      " [[6946  584]\n",
      " [ 357  351]]\n"
     ]
    },
    {
     "name": "stderr",
     "output_type": "stream",
     "text": [
      "/anaconda3/lib/python3.7/site-packages/sklearn/svm/base.py:193: FutureWarning: The default value of gamma will change from 'auto' to 'scale' in version 0.22 to account better for unscaled features. Set gamma explicitly to 'auto' or 'scale' to avoid this warning.\n",
      "  \"avoid this warning.\", FutureWarning)\n"
     ]
    },
    {
     "name": "stdout",
     "output_type": "stream",
     "text": [
      "[0 0 0 ... 1 0 0]\n",
      "[0 0 0 ... 0 1 0]\n",
      "Training accuracy: 0.9892564491654021\n",
      "\n",
      "              precision    recall  f1-score   support\n",
      "\n",
      "           0       1.00      0.99      0.99     29571\n",
      "           1       0.91      1.00      0.95      3379\n",
      "\n",
      "    accuracy                           0.99     32950\n",
      "   macro avg       0.95      0.99      0.97     32950\n",
      "weighted avg       0.99      0.99      0.99     32950\n",
      "\n",
      "Predict Training Data with Actual Training Data: \n",
      " [[29231   340]\n",
      " [   14  3365]]\n",
      "\n",
      "Test accuracy: 0.891964068948774\n",
      "\n",
      "              precision    recall  f1-score   support\n",
      "\n",
      "           0       0.96      0.92      0.94      7601\n",
      "           1       0.36      0.54      0.43       637\n",
      "\n",
      "    accuracy                           0.89      8238\n",
      "   macro avg       0.66      0.73      0.69      8238\n",
      "weighted avg       0.91      0.89      0.90      8238\n",
      "\n",
      "Predict Test Data with Actual Test Data: \n",
      " [[7007  594]\n",
      " [ 296  341]]\n"
     ]
    },
    {
     "name": "stderr",
     "output_type": "stream",
     "text": [
      "/anaconda3/lib/python3.7/site-packages/sklearn/svm/base.py:193: FutureWarning: The default value of gamma will change from 'auto' to 'scale' in version 0.22 to account better for unscaled features. Set gamma explicitly to 'auto' or 'scale' to avoid this warning.\n",
      "  \"avoid this warning.\", FutureWarning)\n"
     ]
    },
    {
     "name": "stdout",
     "output_type": "stream",
     "text": [
      "[0 0 0 ... 1 0 0]\n",
      "[0 0 0 ... 0 1 0]\n",
      "Training accuracy: 0.9599393019726858\n",
      "\n",
      "              precision    recall  f1-score   support\n",
      "\n",
      "           0       1.00      0.96      0.98     30293\n",
      "           1       0.68      0.95      0.79      2657\n",
      "\n",
      "    accuracy                           0.96     32950\n",
      "   macro avg       0.84      0.95      0.89     32950\n",
      "weighted avg       0.97      0.96      0.96     32950\n",
      "\n",
      "Predict Training Data with Actual Training Data: \n",
      " [[29109  1184]\n",
      " [  136  2521]]\n",
      "\n",
      "Test accuracy: 0.894027676620539\n",
      "\n",
      "              precision    recall  f1-score   support\n",
      "\n",
      "           0       0.97      0.91      0.94      7784\n",
      "           1       0.28      0.57      0.37       454\n",
      "\n",
      "    accuracy                           0.89      8238\n",
      "   macro avg       0.62      0.74      0.66      8238\n",
      "weighted avg       0.93      0.89      0.91      8238\n",
      "\n",
      "Predict Test Data with Actual Test Data: \n",
      " [[7107  677]\n",
      " [ 196  258]]\n"
     ]
    },
    {
     "name": "stderr",
     "output_type": "stream",
     "text": [
      "/anaconda3/lib/python3.7/site-packages/sklearn/svm/base.py:193: FutureWarning: The default value of gamma will change from 'auto' to 'scale' in version 0.22 to account better for unscaled features. Set gamma explicitly to 'auto' or 'scale' to avoid this warning.\n",
      "  \"avoid this warning.\", FutureWarning)\n"
     ]
    },
    {
     "name": "stdout",
     "output_type": "stream",
     "text": [
      "[0 0 0 ... 0 0 0]\n",
      "[0 0 0 ... 0 0 0]\n",
      "Training accuracy: 0.887556904400607\n",
      "\n",
      "              precision    recall  f1-score   support\n",
      "\n",
      "           0       1.00      0.89      0.94     32950\n",
      "           1       0.00      0.00      0.00         0\n",
      "\n",
      "    accuracy                           0.89     32950\n",
      "   macro avg       0.50      0.44      0.47     32950\n",
      "weighted avg       1.00      0.89      0.94     32950\n",
      "\n",
      "Predict Training Data with Actual Training Data: \n",
      " [[29245  3705]\n",
      " [    0     0]]\n"
     ]
    },
    {
     "name": "stderr",
     "output_type": "stream",
     "text": [
      "/anaconda3/lib/python3.7/site-packages/sklearn/metrics/classification.py:1439: UndefinedMetricWarning: Recall and F-score are ill-defined and being set to 0.0 in labels with no true samples.\n",
      "  'recall', 'true', average, warn_for)\n"
     ]
    },
    {
     "name": "stdout",
     "output_type": "stream",
     "text": [
      "\n",
      "Test accuracy: 0.8865015780529255\n",
      "\n",
      "              precision    recall  f1-score   support\n",
      "\n",
      "           0       1.00      0.89      0.94      8238\n",
      "           1       0.00      0.00      0.00         0\n",
      "\n",
      "    accuracy                           0.89      8238\n",
      "   macro avg       0.50      0.44      0.47      8238\n",
      "weighted avg       1.00      0.89      0.94      8238\n",
      "\n",
      "Predict Test Data with Actual Test Data: \n",
      " [[7303  935]\n",
      " [   0    0]]\n"
     ]
    },
    {
     "name": "stderr",
     "output_type": "stream",
     "text": [
      "/anaconda3/lib/python3.7/site-packages/sklearn/metrics/classification.py:1439: UndefinedMetricWarning: Recall and F-score are ill-defined and being set to 0.0 in labels with no true samples.\n",
      "  'recall', 'true', average, warn_for)\n",
      "/anaconda3/lib/python3.7/site-packages/sklearn/svm/base.py:193: FutureWarning: The default value of gamma will change from 'auto' to 'scale' in version 0.22 to account better for unscaled features. Set gamma explicitly to 'auto' or 'scale' to avoid this warning.\n",
      "  \"avoid this warning.\", FutureWarning)\n"
     ]
    },
    {
     "name": "stdout",
     "output_type": "stream",
     "text": [
      "[0 0 0 ... 0 0 0]\n",
      "[0 0 0 ... 0 0 0]\n",
      "Training accuracy: 0.887556904400607\n",
      "\n",
      "              precision    recall  f1-score   support\n",
      "\n",
      "           0       1.00      0.89      0.94     32950\n",
      "           1       0.00      0.00      0.00         0\n",
      "\n",
      "    accuracy                           0.89     32950\n",
      "   macro avg       0.50      0.44      0.47     32950\n",
      "weighted avg       1.00      0.89      0.94     32950\n",
      "\n",
      "Predict Training Data with Actual Training Data: \n",
      " [[29245  3705]\n",
      " [    0     0]]\n"
     ]
    },
    {
     "name": "stderr",
     "output_type": "stream",
     "text": [
      "/anaconda3/lib/python3.7/site-packages/sklearn/metrics/classification.py:1439: UndefinedMetricWarning: Recall and F-score are ill-defined and being set to 0.0 in labels with no true samples.\n",
      "  'recall', 'true', average, warn_for)\n"
     ]
    },
    {
     "name": "stdout",
     "output_type": "stream",
     "text": [
      "\n",
      "Test accuracy: 0.8865015780529255\n",
      "\n",
      "              precision    recall  f1-score   support\n",
      "\n",
      "           0       1.00      0.89      0.94      8238\n",
      "           1       0.00      0.00      0.00         0\n",
      "\n",
      "    accuracy                           0.89      8238\n",
      "   macro avg       0.50      0.44      0.47      8238\n",
      "weighted avg       1.00      0.89      0.94      8238\n",
      "\n",
      "Predict Test Data with Actual Test Data: \n",
      " [[7303  935]\n",
      " [   0    0]]\n"
     ]
    },
    {
     "name": "stderr",
     "output_type": "stream",
     "text": [
      "/anaconda3/lib/python3.7/site-packages/sklearn/metrics/classification.py:1439: UndefinedMetricWarning: Recall and F-score are ill-defined and being set to 0.0 in labels with no true samples.\n",
      "  'recall', 'true', average, warn_for)\n"
     ]
    }
   ],
   "source": [
    "C=[10,5,1,0.1,.01]\n",
    "for c in C:   \n",
    "    clf = SVC(kernel='rbf', C =c)\n",
    "    clf.fit(x_train,x_target)\n",
    "\n",
    "    clf_train = clf.predict(x_train)\n",
    "    print(clf_train)\n",
    "    clf_test = clf.predict(y_test)\n",
    "    print(clf_test)\n",
    "\n",
    "    print('Training accuracy:', clf.score(x_train, x_target))\n",
    "    print('')\n",
    "    print(classification_report(clf_train, x_target))\n",
    "    SVClftraincm = confusion_matrix(clf_train, x_target)\n",
    "    print(\"Predict Training Data with Actual Training Data: \\n\", SVClftraincm)\n",
    "\n",
    "    print('\\nTest accuracy:', clf.score(y_test, y_target))\n",
    "    print('')\n",
    "    print(classification_report(clf_test, y_target))\n",
    "    SVClftestcm = confusion_matrix(clf_test, y_target)\n",
    "    print(\"Predict Test Data with Actual Test Data: \\n\", SVClftestcm)"
   ]
  },
  {
   "cell_type": "code",
   "execution_count": 120,
   "metadata": {},
   "outputs": [
    {
     "name": "stderr",
     "output_type": "stream",
     "text": [
      "/anaconda3/lib/python3.7/site-packages/sklearn/svm/base.py:193: FutureWarning: The default value of gamma will change from 'auto' to 'scale' in version 0.22 to account better for unscaled features. Set gamma explicitly to 'auto' or 'scale' to avoid this warning.\n",
      "  \"avoid this warning.\", FutureWarning)\n"
     ]
    },
    {
     "name": "stdout",
     "output_type": "stream",
     "text": [
      "[0 0 0 ... 1 0 0]\n",
      "[0 0 0 ... 0 1 0]\n",
      "Training accuracy: 0.9599393019726858\n",
      "\n",
      "              precision    recall  f1-score   support\n",
      "\n",
      "           0       1.00      0.96      0.98     30293\n",
      "           1       0.68      0.95      0.79      2657\n",
      "\n",
      "    accuracy                           0.96     32950\n",
      "   macro avg       0.84      0.95      0.89     32950\n",
      "weighted avg       0.97      0.96      0.96     32950\n",
      "\n",
      "Predict Training Data with Actual Training Data: \n",
      " [[29109  1184]\n",
      " [  136  2521]]\n",
      "\n",
      "Test accuracy: 0.894027676620539\n",
      "\n",
      "              precision    recall  f1-score   support\n",
      "\n",
      "           0       0.97      0.91      0.94      7784\n",
      "           1       0.28      0.57      0.37       454\n",
      "\n",
      "    accuracy                           0.89      8238\n",
      "   macro avg       0.62      0.74      0.66      8238\n",
      "weighted avg       0.93      0.89      0.91      8238\n",
      "\n",
      "Predict Test Data with Actual Test Data: \n",
      " [[7107  677]\n",
      " [ 196  258]]\n"
     ]
    }
   ],
   "source": [
    "clf = SVC(kernel='rbf', C =1, probability=True)\n",
    "clf.fit(x_train,x_target)\n",
    "clf_train = clf.predict(x_train)\n",
    "print(clf_train)\n",
    "clf_test = clf.predict(y_test)\n",
    "print(clf_test)\n",
    "\n",
    "print('Training accuracy:', clf.score(x_train, x_target))\n",
    "print('')\n",
    "print(classification_report(clf_train, x_target))\n",
    "SVClftraincm = confusion_matrix(clf_train, x_target)\n",
    "print(\"Predict Training Data with Actual Training Data: \\n\", SVClftraincm)\n",
    "\n",
    "print('\\nTest accuracy:', clf.score(y_test, y_target))\n",
    "print('')\n",
    "print(classification_report(clf_test, y_target))\n",
    "SVClftestcm = confusion_matrix(clf_test, y_target)\n",
    "print(\"Predict Test Data with Actual Test Data: \\n\", SVClftestcm)"
   ]
  },
  {
   "cell_type": "code",
   "execution_count": 121,
   "metadata": {},
   "outputs": [
    {
     "data": {
      "image/png": "[encoded data removed]",
      "text/plain": [
       "<Figure size 576x432 with 2 Axes>"
      ]
     },
     "metadata": {
      "needs_background": "light"
     },
     "output_type": "display_data"
    }
   ],
   "source": [
    "plot_confusion_matrix(cm = SVClftestcm, \n",
    "                      normalize    = False,\n",
    "                      target_names = ['No', 'Yes'],\n",
    "                      title        = \"Testing Data with Support vector classifier Confusion Matrix\")"
   ]
  },
  {
   "cell_type": "code",
   "execution_count": 122,
   "metadata": {},
   "outputs": [
    {
     "data": {
      "image/png": "[encoded data removed]",
      "text/plain": [
       "<Figure size 576x432 with 1 Axes>"
      ]
     },
     "metadata": {
      "needs_background": "light"
     },
     "output_type": "display_data"
    }
   ],
   "source": [
    "logit_roc_auc = roc_auc_score(y_target, clf.predict(y_test))\n",
    "fpr, tpr, thresholds = roc_curve(y_target, clf.predict_proba(y_test)[:,1])\n",
    "\n",
    "\n",
    "plt.figure(figsize=(8, 6))\n",
    "plt.plot(fpr, tpr, label='Logistic Regression (area = %0.2f)' % logit_roc_auc)\n",
    "plt.plot([0, 1], [0, 1],'r--')\n",
    "plt.xlim([0.0, 1.0])\n",
    "plt.ylim([0.0, 1.05])\n",
    "plt.xlabel('False Positive Rate')\n",
    "plt.ylabel('True Positive Rate')\n",
    "plt.title(' Naive Bayes with PCA Receiver operating characteristic')\n",
    "plt.legend(loc=\"lower right\")\n",
    "plt.savefig('Log_ROC')\n",
    "plt.show()"
   ]
  },
  {
   "cell_type": "code",
   "execution_count": null,
   "metadata": {},
   "outputs": [],
   "source": []
  }
 ],
 "metadata": {
  "kernelspec": {
   "display_name": "Python 3",
   "language": "python",
   "name": "python3"
  },
  "language_info": {
   "codemirror_mode": {
    "name": "ipython",
    "version": 3
   },
   "file_extension": ".py",
   "mimetype": "text/x-python",
   "name": "python",
   "nbconvert_exporter": "python",
   "pygments_lexer": "ipython3",
   "version": "3.7.1"
  }
 },
 "nbformat": 4,
 "nbformat_minor": 2
}
